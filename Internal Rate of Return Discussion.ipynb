{
 "cells": [
  {
   "cell_type": "markdown",
   "metadata": {},
   "source": [
    "# A look at Internal Rate of Return"
   ]
  },
  {
   "cell_type": "markdown",
   "metadata": {},
   "source": [
    "This notebook aims to look at the internal rate of return *(IRR)* calculation\n",
    "from a `pythonic` perspective as well as the broader financial meanings.\n",
    "\n",
    "For formal definitions, feel free to read the wikipedia page:\n",
    "https://en.wikipedia.org/wiki/Internal_rate_of_return"
   ]
  },
  {
   "cell_type": "code",
   "execution_count": 1,
   "metadata": {},
   "outputs": [],
   "source": [
    "import numpy as np\n",
    "import matplotlib.pyplot as plt\n",
    "import seaborn as sns\n",
    "sns.set()"
   ]
  },
  {
   "cell_type": "markdown",
   "metadata": {},
   "source": [
    "## Table of Contents"
   ]
  },
  {
   "cell_type": "markdown",
   "metadata": {
    "collapsed": true
   },
   "source": [
    "* [A look at Numpy IRR](#A-look-at-Numpy-IRR)\n",
    "    * [Numpy root finding](#Numpy-root-finding)\n",
    "* [The Financial Perspective](#The-Financial-Perspective)\n",
    "* [A look at Scipy](#A-look-at-Scipy)\n",
    "    * [Fsolve](#Fsolve)\n",
    "* [Optimising Using Numba](#Optimising-Using-Numba)\n",
    "    * [fastats library](#fastats-library)"
   ]
  },
  {
   "cell_type": "markdown",
   "metadata": {},
   "source": [
    "## A look at Numpy IRR\n",
    "https://docs.scipy.org/doc/numpy/reference/generated/numpy.irr.html"
   ]
  },
  {
   "cell_type": "markdown",
   "metadata": {},
   "source": [
    "`Numpy` has a built in function for the IRR calc. \n",
    "They also have a very simple yet comprehensive example of how `IRR` is calculated."
   ]
  },
  {
   "cell_type": "markdown",
   "metadata": {},
   "source": [
    "**From Numpy Docs**\n",
    "\n",
    " Suppose one invests 100 units and then makes the following withdrawals at regular (fixed) intervals: 39, 59, 55, 20.  \n",
    " \n",
    "Assuming the ending value is 0, one's 100 unit investment yields 173 units.\n",
    "\n",
    "However, due to the combination of compounding and the periodic withdrawals, the \"average\" rate of return is neither simply 0.73/4 nor (1.73)^0.25-1.  \n",
    "\n",
    "Rather, it is the solution (for $r$) of the equation:\n",
    "    \n",
    "$$-100 + \\frac{39}{1+r} + \\frac{59}{(1+r)^2} + \\frac{55}{(1+r)^3} + \\frac{20}{(1+r)^4} = 0$$\n"
   ]
  },
  {
   "cell_type": "markdown",
   "metadata": {},
   "source": [
    "Assuming:\n",
    "\n",
    "$$x = (1 + r)$$\n",
    "    \n",
    "*And we times both sides of the equation with:* $x^4$\n",
    "\n",
    "We are left with a pretty standard polynomial:\n",
    "\n",
    "$$-100x^4 + 39x^3 + 59x^2 + 55x + 20 = 0$$"
   ]
  },
  {
   "cell_type": "markdown",
   "metadata": {},
   "source": [
    "### Lets just plot this function quickly:"
   ]
  },
  {
   "cell_type": "code",
   "execution_count": 6,
   "metadata": {},
   "outputs": [
    {
     "data": {
      "text/plain": [
       "<matplotlib.lines.Line2D at 0x1a247a3630>"
      ]
     },
     "execution_count": 6,
     "metadata": {},
     "output_type": "execute_result"
    },
    {
     "data": {
      "image/png": "[encoded data removed]",
      "text/plain": [
       "<Figure size 432x288 with 1 Axes>"
      ]
     },
     "metadata": {
      "needs_background": "light"
     },
     "output_type": "display_data"
    }
   ],
   "source": [
    "f = lambda x: -100*pow(x,4) + 39*pow(x,3) + 59*pow(x,2) + 55*x + 20\n",
    "\n",
    "x = np.arange(-1.5,1.5,(10 - (-10))/100)\n",
    "y = f(x)\n",
    "\n",
    "%matplotlib inline\n",
    "fig, ax = plt.subplots()\n",
    "ax.plot(x, y, linewidth=2, markersize=12)\n",
    "ax.axvline(x=1.30,linewidth=1, color='r')"
   ]
  },
  {
   "cell_type": "markdown",
   "metadata": {},
   "source": [
    "It becomes clear the the solution to this problem, \n",
    "is one where x is a real number such that $f(x) = 0$.\n",
    "\n",
    "This may seem trivial but it highlights what irr is essentially doing from a mathetical perspective. This means in order to solve for $r$ we need to be able to find the roots of a polynomial equation.\n",
    "\n",
    "This is known as [Root Finding](https://en.wikipedia.org/wiki/Root-finding_algorithm)"
   ]
  },
  {
   "cell_type": "markdown",
   "metadata": {},
   "source": [
    "### Numpy root finding\n",
    "\n",
    "You can see numpy's root function, which uses the eigenvalue approach to solve the roots:\n",
    "\n",
    "* https://github.com/numpy/numpy/blob/v1.9.1/numpy/lib/polynomial.py#L151\n",
    "\n",
    "* http://web.mit.edu/18.06/www/Spring17/Eigenvalue-Polynomials.pdf"
   ]
  },
  {
   "cell_type": "markdown",
   "metadata": {},
   "source": [
    "## The Financial Perspective\n",
    "\n",
    "I just wanted to quickly touch on the below points before moving onto the method one can use to solve for IRR with scipy.\n",
    "\n",
    "When solving for IRR we are essentially solving for a rate (yield for the FI traders) that solves for a **Net Present Value** (NPV) of zero.\n",
    "\n",
    "Essentially, the rate that discounts all future cashflows (ins / outs) so that they equate to the amount originally invested.\n",
    "\n",
    "As an example for a bond, IRR is essentially your yield to maturity at time of purchase... "
   ]
  },
  {
   "cell_type": "markdown",
   "metadata": {},
   "source": [
    "## A look at Scipy\n",
    "\n",
    "Scipy has multiple `root finding` functions. See the below link for all the various options. I take a look @newton_krylov (the math is intense but apparently it's good for large sized polynomials).\n",
    "\n",
    "* https://docs.scipy.org/doc/scipy-0.14.0/reference/optimize.html#root-finding\n",
    "\n",
    "Remember being able to find the root of a polynomial is crucial for finding IRR, as this is essentially solving for `x` where the $NPV = 0$"
   ]
  },
  {
   "cell_type": "code",
   "execution_count": 7,
   "metadata": {},
   "outputs": [
    {
     "name": "stdout",
     "output_type": "stream",
     "text": [
      "Root of Function:\n",
      "-----------------\n",
      "-3.0291609295472766\n"
     ]
    }
   ],
   "source": [
    "from scipy.optimize import newton_krylov\n",
    "\n",
    "g = lambda x: x**3 - x**2 + x + 40\n",
    "\n",
    "print(\"Root of Function:\")\n",
    "print(\"-----------------\")\n",
    "print(newton_krylov(g, 2.0))"
   ]
  },
  {
   "cell_type": "code",
   "execution_count": 8,
   "metadata": {},
   "outputs": [
    {
     "data": {
      "text/plain": [
       "[<matplotlib.lines.Line2D at 0x1a2477f0f0>]"
      ]
     },
     "execution_count": 8,
     "metadata": {},
     "output_type": "execute_result"
    },
    {
     "data": {
      "image/png": "[encoded data removed]",
      "text/plain": [
       "<Figure size 432x288 with 1 Axes>"
      ]
     },
     "metadata": {
      "needs_background": "light"
     },
     "output_type": "display_data"
    }
   ],
   "source": [
    "## VISUALIZING ABOVE FUNCTION\n",
    "\n",
    "x = np.arange(-5,5,(10 - (-10))/100)\n",
    "y = g(x)\n",
    "\n",
    "%matplotlib inline\n",
    "fig, ax = plt.subplots()\n",
    "ax.plot(x, y, linewidth=2, markersize=12)"
   ]
  },
  {
   "cell_type": "markdown",
   "metadata": {},
   "source": [
    "### Fsolve \n",
    "\n",
    "Using scipy fsolve to determine for which values of irr the npv = 0.\n",
    "\n",
    "fsolve is scipy's function for *root finding* (non-linear functions).\n",
    "\n",
    "https://docs.scipy.org/doc/scipy-0.14.0/reference/generated/scipy.optimize.fsolve.html\n",
    "\n",
    "Implementation take from: https://stackoverflow.com/questions/46203735/calculating-variable-cash-flow-irr-in-python-pandas"
   ]
  },
  {
   "cell_type": "code",
   "execution_count": 9,
   "metadata": {},
   "outputs": [],
   "source": [
    "from scipy.optimize import fsolve\n",
    "\n",
    "def npv(irr, cfs, yrs):  \n",
    "    return np.sum(cfs / (1. + irr) ** yrs)\n",
    "\n",
    "def irr(cfs, yrs, x0, **kwargs):\n",
    "    return np.asscalar(fsolve(npv, x0=x0, args=(cfs, yrs), **kwargs))"
   ]
  },
  {
   "cell_type": "code",
   "execution_count": 10,
   "metadata": {},
   "outputs": [],
   "source": [
    "cash_flow = np.array([-100.0, 39.0, 59.0, 55.0, 20.0])    \n",
    "years_ago = np.array([0.0, 1.0, 2.0, 3.0, 4.0])"
   ]
  },
  {
   "cell_type": "code",
   "execution_count": 11,
   "metadata": {},
   "outputs": [
    {
     "data": {
      "text/plain": [
       "0.28094842115996105"
      ]
     },
     "execution_count": 11,
     "metadata": {},
     "output_type": "execute_result"
    }
   ],
   "source": [
    "irr(cash_flow, years_ago, x0=0.3, maxfev=10000)"
   ]
  },
  {
   "cell_type": "markdown",
   "metadata": {},
   "source": [
    "### As proof lets confirm the above result with numpy"
   ]
  },
  {
   "cell_type": "code",
   "execution_count": 12,
   "metadata": {},
   "outputs": [
    {
     "data": {
      "text/plain": [
       "0.28094842115996066"
      ]
     },
     "execution_count": 12,
     "metadata": {},
     "output_type": "execute_result"
    }
   ],
   "source": [
    "np.irr(cash_flow)"
   ]
  },
  {
   "cell_type": "markdown",
   "metadata": {},
   "source": [
    "# Optimising Using Numba"
   ]
  },
  {
   "cell_type": "markdown",
   "metadata": {},
   "source": [
    "Literally this whole notebook is \n",
    "so I can claim numpy irr is slow and unstable while scipy is not\n",
    "entirely optimised.\n",
    "\n",
    "This claim is not entirely true. However, I really wanted to try [NUMBA](http://numba.pydata.org/numba-doc/latest/index.html) on something cool.\n",
    "\n",
    "Basically I am probably wasting a bit of time but it's a good excuse to brush up on linear algebra and use `NUMBA` :)"
   ]
  },
  {
   "cell_type": "code",
   "execution_count": 13,
   "metadata": {},
   "outputs": [],
   "source": [
    "## import numba jit and setup kwargs\n",
    "from numba import jit\n",
    "\n",
    "kwargs = {\"nopython\" : True, \"error_model\" : 'numpy'}"
   ]
  },
  {
   "cell_type": "markdown",
   "metadata": {},
   "source": [
    "Using Newtons Method - function basically taken from the below \n",
    "really clean piece of code:\n",
    "https://www.math.ubc.ca/~pwalls/math-python/roots-optimization/newton/"
   ]
  },
  {
   "cell_type": "code",
   "execution_count": 14,
   "metadata": {},
   "outputs": [],
   "source": [
    "@jit(**kwargs)\n",
    "def eval_polynomial(P, x):\n",
    "    '''\n",
    "    Compute polynomial P(x) where P is a vector of coefficients, highest\n",
    "    order coefficient at P[0].  Uses Horner's Method.\n",
    "    '''\n",
    "    result = 0\n",
    "    for coeff in P:\n",
    "        result = x * result + coeff\n",
    "    return result"
   ]
  },
  {
   "cell_type": "code",
   "execution_count": 15,
   "metadata": {},
   "outputs": [],
   "source": [
    "@jit(**kwargs)\n",
    "def newton(f, Df, x0, epsilon=1e-9, max_iter=1e9):\n",
    "    '''Approximate solution of f(x)=0 by Newton's method.\n",
    "\n",
    "    Parameters\n",
    "    ----------\n",
    "    f : list\n",
    "        Function for which we are searching for a solution f(x)=0.\n",
    "    Df : list\n",
    "        Derivative of f(x).\n",
    "    x0 : number\n",
    "        Initial guess for a solution f(x)=0.\n",
    "    epsilon : number\n",
    "        Stopping criteria is abs(f(x)) < epsilon.\n",
    "    max_iter : integer\n",
    "        Maximum number of iterations of Newton's method.\n",
    "\n",
    "    Returns\n",
    "    -------\n",
    "    xn : number\n",
    "        Implement Newton's method: compute the linear approximation\n",
    "        of f(x) at xn and find x intercept by the formula\n",
    "            x = xn - f(xn)/Df(xn)\n",
    "        Continue until abs(f(xn)) < epsilon and return xn.\n",
    "        If Df(xn) == 0, return None. If the number of iterations\n",
    "        exceeds max_iter, then return None.\n",
    "\n",
    "    '''\n",
    "    xn = x0\n",
    "    for n in range(0,max_iter):\n",
    "        print(xn)\n",
    "        fxn = eval_polynomial(f,xn)\n",
    "        if abs(fxn) < epsilon:\n",
    "            print('Found solution after',n,'iterations.')\n",
    "            return xn\n",
    "        Dfxn = eval_polynomial(Df,xn)\n",
    "        if Dfxn == 0:\n",
    "            print('Zero derivative. No solution found.')\n",
    "            return None\n",
    "        xn = xn - fxn/Dfxn\n",
    "    print('Exceeded maximum iterations. No solution found.')\n",
    "    return None"
   ]
  },
  {
   "cell_type": "code",
   "execution_count": 16,
   "metadata": {},
   "outputs": [],
   "source": [
    "import numpy.core.numeric as NX\n",
    "\n",
    "@jit(**kwargs)\n",
    "def calculate_polynomial_derivative(p):\n",
    "    \"\"\"\n",
    "    https://stackoverflow.com/questions/18093509/how-can-i-create-functions-that-handle-polynomials\n",
    "    \n",
    "    \"\"\"\n",
    "    p = NX.asarray(p)\n",
    "    n = len(p) - 1\n",
    "    y = p[:-1] * NX.arange(n, 0, -1)\n",
    "    return y"
   ]
  },
  {
   "cell_type": "code",
   "execution_count": 17,
   "metadata": {},
   "outputs": [],
   "source": [
    "@jit(**kwargs)\n",
    "def calculate_irr(cf, r0):\n",
    "    \"\"\"\n",
    "    Calculate the internal rate of return (irr)\n",
    "    of an investment per period provided.\n",
    "    \n",
    "    Args:\n",
    "    ------\n",
    "        cf (numpy.array): The array of cash flows\n",
    "        r0 (int): The estimate of the irr (note not x)\n",
    "        \n",
    "    Returns:\n",
    "    --------\n",
    "        float: The calculated irr over the life of the investment\n",
    "        per period.\n",
    "    \n",
    "    \"\"\"\n",
    "    \n",
    "    ## Reverse order of array as cashflows are from start to finish.\n",
    "    #cf = cf[::-1]\n",
    "    ## Get the derivative of the polynomial\n",
    "    dcf = calculate_polynomial_derivative(cf)\n",
    "    root = newton(cf, dcf, 1 + r0)\n",
    "    \n",
    "    if root is not None:\n",
    "        irr = root - 1\n",
    "    else:\n",
    "        irr = None\n",
    "    \n",
    "    return irr"
   ]
  },
  {
   "cell_type": "code",
   "execution_count": 18,
   "metadata": {},
   "outputs": [
    {
     "name": "stdout",
     "output_type": "stream",
     "text": [
      "1.3\n",
      "1.2815579579833711\n",
      "1.2809490713476943\n",
      "1.2809484211607018\n",
      "Found solution after 3 iterations.\n"
     ]
    },
    {
     "data": {
      "text/plain": [
       "0.28094842116070184"
      ]
     },
     "execution_count": 18,
     "metadata": {},
     "output_type": "execute_result"
    }
   ],
   "source": [
    "cfs = [-100.0, 39.0, 59.0, 55.0, 20.0]\n",
    "calculate_irr(cfs, .3)"
   ]
  },
  {
   "cell_type": "markdown",
   "metadata": {},
   "source": [
    "The above is a slightly disappointing result, fairly slower than scipy / numpy"
   ]
  },
  {
   "cell_type": "markdown",
   "metadata": {},
   "source": [
    "## fastats library\n",
    "\n",
    "Cool library using `numba` a lot more effectively than me!"
   ]
  },
  {
   "cell_type": "code",
   "execution_count": 30,
   "metadata": {
    "scrolled": true
   },
   "outputs": [],
   "source": [
    "# px doesn't work with fastats at the moment \n",
    "# TODO: Look at solving this \n",
    "def px(x):\n",
    "#     res = x**3 - x - 1\n",
    "    res = eval_polynomial(cfs, x)\n",
    "    return res\n",
    "\n",
    "def f(x):\n",
    "    return x**3 - 4"
   ]
  },
  {
   "cell_type": "code",
   "execution_count": 31,
   "metadata": {},
   "outputs": [],
   "source": [
    "from fastats import newton_raphson"
   ]
  },
  {
   "cell_type": "code",
   "execution_count": 32,
   "metadata": {},
   "outputs": [
    {
     "data": {
      "text/plain": [
       "1.5874010519682042"
      ]
     },
     "execution_count": 32,
     "metadata": {},
     "output_type": "execute_result"
    }
   ],
   "source": [
    "newton_raphson(0.025, 1e-6, root=f)"
   ]
  },
  {
   "cell_type": "code",
   "execution_count": 213,
   "metadata": {},
   "outputs": [],
   "source": []
  },
  {
   "cell_type": "code",
   "execution_count": null,
   "metadata": {},
   "outputs": [],
   "source": []
  },
  {
   "cell_type": "code",
   "execution_count": null,
   "metadata": {},
   "outputs": [],
   "source": []
  },
  {
   "cell_type": "code",
   "execution_count": null,
   "metadata": {},
   "outputs": [],
   "source": []
  },
  {
   "cell_type": "code",
   "execution_count": null,
   "metadata": {},
   "outputs": [],
   "source": []
  },
  {
   "cell_type": "code",
   "execution_count": null,
   "metadata": {},
   "outputs": [],
   "source": []
  },
  {
   "cell_type": "code",
   "execution_count": null,
   "metadata": {},
   "outputs": [],
   "source": []
  }
 ],
 "metadata": {
  "kernelspec": {
   "display_name": "Python 3",
   "language": "python",
   "name": "python3"
  },
  "language_info": {
   "codemirror_mode": {
    "name": "ipython",
    "version": 3
   },
   "file_extension": ".py",
   "mimetype": "text/x-python",
   "name": "python",
   "nbconvert_exporter": "python",
   "pygments_lexer": "ipython3",
   "version": "3.7.3"
  }
 },
 "nbformat": 4,
 "nbformat_minor": 2
}
