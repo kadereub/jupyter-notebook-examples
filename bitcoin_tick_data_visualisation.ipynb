{
 "cells": [
  {
   "cell_type": "markdown",
   "metadata": {},
   "source": [
    "**Load Standard Libraries**"
   ]
  },
  {
   "cell_type": "code",
   "execution_count": 1,
   "metadata": {},
   "outputs": [],
   "source": [
    "import os\n",
    "import numpy as np\n",
    "import pandas as pd\n",
    "import numba as nb\n",
    "\n",
    "from scipy import stats\n",
    "import seaborn as sns\n",
    "import matplotlib.pyplot as plt"
   ]
  },
  {
   "cell_type": "code",
   "execution_count": 34,
   "metadata": {},
   "outputs": [],
   "source": [
    "%matplotlib inline\n",
    "sns.set()"
   ]
  },
  {
   "cell_type": "markdown",
   "metadata": {},
   "source": [
    "### Load Bitstamp Btc data\n",
    "\n",
    "Note this is sourced from: http://api.bitcoincharts.com/v1/csv/\n",
    "\n",
    "See SO post for more detail: https://stackoverflow.com/questions/16143266/get-bitcoin-historical-data"
   ]
  },
  {
   "cell_type": "code",
   "execution_count": 24,
   "metadata": {},
   "outputs": [],
   "source": [
    "downloads_path = os.path.expanduser('~/Downloads')\n",
    "btc_data = pd.read_csv(os.path.join(downloads_path, \"bitstampUSD.csv\"), header=None)\n",
    "btc_data.columns = [\"TimeStamp\", \"Price\", \"Volume\"]"
   ]
  },
  {
   "cell_type": "markdown",
   "metadata": {},
   "source": [
    "**Clean and only subset of recent data**"
   ]
  },
  {
   "cell_type": "code",
   "execution_count": 32,
   "metadata": {},
   "outputs": [],
   "source": [
    "start_date = \"2017-03-07\"\n",
    "end_date = \"2020-03-07\""
   ]
  },
  {
   "cell_type": "code",
   "execution_count": 25,
   "metadata": {},
   "outputs": [],
   "source": [
    "btc_data['TimeStamp'] = pd.to_datetime(btc_data['TimeStamp'], unit='s')\n",
    "btc_data.set_index(\"TimeStamp\", inplace=True)\n",
    "btc_data = btc_data.loc[(btc_data.index > start_date) & (btc_data.index <= end_date)]"
   ]
  },
  {
   "cell_type": "code",
   "execution_count": 26,
   "metadata": {},
   "outputs": [
    {
     "data": {
      "text/plain": [
       "(26692978, 2)"
      ]
     },
     "execution_count": 26,
     "metadata": {},
     "output_type": "execute_result"
    }
   ],
   "source": [
    "btc_data.shape"
   ]
  },
  {
   "cell_type": "code",
   "execution_count": 27,
   "metadata": {},
   "outputs": [
    {
     "data": {
      "text/html": [
       "<div>\n",
       "<style scoped>\n",
       "    .dataframe tbody tr th:only-of-type {\n",
       "        vertical-align: middle;\n",
       "    }\n",
       "\n",
       "    .dataframe tbody tr th {\n",
       "        vertical-align: top;\n",
       "    }\n",
       "\n",
       "    .dataframe thead th {\n",
       "        text-align: right;\n",
       "    }\n",
       "</style>\n",
       "<table border=\"1\" class=\"dataframe\">\n",
       "  <thead>\n",
       "    <tr style=\"text-align: right;\">\n",
       "      <th></th>\n",
       "      <th>Price</th>\n",
       "      <th>Volume</th>\n",
       "    </tr>\n",
       "    <tr>\n",
       "      <th>TimeStamp</th>\n",
       "      <th></th>\n",
       "      <th></th>\n",
       "    </tr>\n",
       "  </thead>\n",
       "  <tbody>\n",
       "    <tr>\n",
       "      <th>2017-03-07 00:00:06</th>\n",
       "      <td>1278.49</td>\n",
       "      <td>0.010000</td>\n",
       "    </tr>\n",
       "    <tr>\n",
       "      <th>2017-03-07 00:00:14</th>\n",
       "      <td>1278.12</td>\n",
       "      <td>0.017039</td>\n",
       "    </tr>\n",
       "    <tr>\n",
       "      <th>2017-03-07 00:00:49</th>\n",
       "      <td>1278.02</td>\n",
       "      <td>2.000000</td>\n",
       "    </tr>\n",
       "  </tbody>\n",
       "</table>\n",
       "</div>"
      ],
      "text/plain": [
       "                       Price    Volume\n",
       "TimeStamp                             \n",
       "2017-03-07 00:00:06  1278.49  0.010000\n",
       "2017-03-07 00:00:14  1278.12  0.017039\n",
       "2017-03-07 00:00:49  1278.02  2.000000"
      ]
     },
     "execution_count": 27,
     "metadata": {},
     "output_type": "execute_result"
    }
   ],
   "source": [
    "btc_data.head(3)"
   ]
  },
  {
   "cell_type": "markdown",
   "metadata": {},
   "source": [
    "### Get OHLC data"
   ]
  },
  {
   "cell_type": "code",
   "execution_count": 38,
   "metadata": {},
   "outputs": [
    {
     "name": "stdout",
     "output_type": "stream",
     "text": [
      "CPU times: user 11.6 s, sys: 4.1 s, total: 15.7 s\n",
      "Wall time: 17.3 s\n"
     ]
    }
   ],
   "source": [
    "%%time\n",
    "ohlc_data = pd.DataFrame()\n",
    "\n",
    "# Group by minute and get OHLC\n",
    "grp_btc_data = btc_data.groupby(pd.Grouper(freq='min'))\n",
    "ohlc_data[\"volume\"] = grp_btc_data[\"Volume\"].sum()\n",
    "ohlc_data[\"open\"] = grp_btc_data[\"Price\"].nth(0)\n",
    "ohlc_data[\"high\"] = grp_btc_data[\"Price\"].max()\n",
    "ohlc_data[\"low\"] = grp_btc_data[\"Price\"].min()\n",
    "ohlc_data[\"close\"] = grp_btc_data[\"Price\"].nth(-1)"
   ]
  },
  {
   "cell_type": "code",
   "execution_count": 29,
   "metadata": {},
   "outputs": [
    {
     "data": {
      "text/html": [
       "<div>\n",
       "<style scoped>\n",
       "    .dataframe tbody tr th:only-of-type {\n",
       "        vertical-align: middle;\n",
       "    }\n",
       "\n",
       "    .dataframe tbody tr th {\n",
       "        vertical-align: top;\n",
       "    }\n",
       "\n",
       "    .dataframe thead th {\n",
       "        text-align: right;\n",
       "    }\n",
       "</style>\n",
       "<table border=\"1\" class=\"dataframe\">\n",
       "  <thead>\n",
       "    <tr style=\"text-align: right;\">\n",
       "      <th></th>\n",
       "      <th>Volume</th>\n",
       "      <th>Open</th>\n",
       "      <th>High</th>\n",
       "      <th>Low</th>\n",
       "      <th>Close</th>\n",
       "    </tr>\n",
       "    <tr>\n",
       "      <th>TimeStamp</th>\n",
       "      <th></th>\n",
       "      <th></th>\n",
       "      <th></th>\n",
       "      <th></th>\n",
       "      <th></th>\n",
       "    </tr>\n",
       "  </thead>\n",
       "  <tbody>\n",
       "    <tr>\n",
       "      <th>2020-03-06 23:58:00</th>\n",
       "      <td>9.174197</td>\n",
       "      <td>9146.12</td>\n",
       "      <td>9160.80</td>\n",
       "      <td>9146.12</td>\n",
       "      <td>9155.65</td>\n",
       "    </tr>\n",
       "    <tr>\n",
       "      <th>2020-03-06 23:59:00</th>\n",
       "      <td>0.396045</td>\n",
       "      <td>9153.76</td>\n",
       "      <td>9159.76</td>\n",
       "      <td>9153.68</td>\n",
       "      <td>9153.79</td>\n",
       "    </tr>\n",
       "  </tbody>\n",
       "</table>\n",
       "</div>"
      ],
      "text/plain": [
       "                       Volume     Open     High      Low    Close\n",
       "TimeStamp                                                        \n",
       "2020-03-06 23:58:00  9.174197  9146.12  9160.80  9146.12  9155.65\n",
       "2020-03-06 23:59:00  0.396045  9153.76  9159.76  9153.68  9153.79"
      ]
     },
     "execution_count": 29,
     "metadata": {},
     "output_type": "execute_result"
    }
   ],
   "source": [
    "ohlc_data.tail(2)"
   ]
  },
  {
   "cell_type": "code",
   "execution_count": 30,
   "metadata": {
    "scrolled": true
   },
   "outputs": [
    {
     "data": {
      "text/plain": [
       "(1578240, 5)"
      ]
     },
     "execution_count": 30,
     "metadata": {},
     "output_type": "execute_result"
    }
   ],
   "source": [
    "ohlc_data.shape"
   ]
  },
  {
   "cell_type": "markdown",
   "metadata": {},
   "source": [
    "**Check for missing Dates**"
   ]
  },
  {
   "cell_type": "code",
   "execution_count": 31,
   "metadata": {},
   "outputs": [
    {
     "data": {
      "text/plain": [
       "DatetimeIndex([], dtype='datetime64[ns]', freq=None)"
      ]
     },
     "execution_count": 31,
     "metadata": {},
     "output_type": "execute_result"
    }
   ],
   "source": [
    "expected_dates = pd.date_range(start = start_date, end = end_date, freq=\"min\")\n",
    "missing_dates = expected_dates.difference(ohlc_data.index)\n",
    "missing_dates"
   ]
  },
  {
   "cell_type": "markdown",
   "metadata": {},
   "source": [
    "### Visualize Data\n",
    "\n",
    "Since we have minute OHLC, as calculated above we'll plot an hour time frame"
   ]
  },
  {
   "cell_type": "code",
   "execution_count": 35,
   "metadata": {},
   "outputs": [],
   "source": [
    "### First Just Check data makes sense"
   ]
  },
  {
   "cell_type": "code",
   "execution_count": 39,
   "metadata": {},
   "outputs": [
    {
     "data": {
      "text/plain": [
       "<matplotlib.axes._subplots.AxesSubplot at 0x152f4eed0>"
      ]
     },
     "execution_count": 39,
     "metadata": {},
     "output_type": "execute_result"
    },
    {
     "data": {
      "image/png": "[encoded data removed]",
      "text/plain": [
       "<Figure size 432x288 with 1 Axes>"
      ]
     },
     "metadata": {},
     "output_type": "display_data"
    }
   ],
   "source": [
    "ohlc_data[\"close\"].plot(kind=\"line\")"
   ]
  },
  {
   "cell_type": "markdown",
   "metadata": {},
   "source": [
    "#### Plot Candle-Sticks"
   ]
  },
  {
   "cell_type": "code",
   "execution_count": 46,
   "metadata": {},
   "outputs": [
    {
     "data": {
      "application/vnd.plotly.v1+json": {
       "config": {
        "plotlyServerURL": "https://plot.ly"
       },
       "data": [
        {
         "close": [
          9130,
          9123.8,
          9128,
          9129.01,
          9128.79,
          9121.53,
          9129.99,
          9121.66,
          9130,
          9130,
          9129.36,
          9134.9,
          9142.23,
          9131.99,
          9140.16,
          9140,
          9135.01,
          9147.7,
          9149.3,
          9148.78,
          9152.76,
          9149,
          9148.46,
          9148.21,
          9152.5,
          9145.97,
          9135.43,
          9131.99,
          9116.45,
          9123.44,
          9136.69,
          9132.41,
          9138.82,
          9146.44,
          9146.47,
          9147.75,
          9150.73,
          9147.56,
          9149.81,
          9137.28,
          9137.38,
          9139.83,
          9138.84,
          9149.48,
          9146.54,
          9142.2,
          9144.14,
          9144.59,
          9155.13,
          9158.51,
          9158.5,
          9149.99,
          9156.55,
          9153.52,
          9150.31,
          9139.59,
          9139.45,
          9145.4,
          9155.65,
          9153.79
         ],
         "high": [
          9130,
          9123.8,
          9128.09,
          9129.01,
          9129.81,
          9128.69,
          9129.99,
          9121.66,
          9130,
          9130,
          9138.9,
          9142.27,
          9142.33,
          9136.93,
          9140.16,
          9140,
          9141.8,
          9157,
          9156.64,
          9157.45,
          9152.76,
          9149.19,
          9154.65,
          9153.23,
          9152.5,
          9152.49,
          9152.43,
          9141.49,
          9126.25,
          9129.75,
          9136.69,
          9135.81,
          9138.82,
          9155.21,
          9152.94,
          9153.53,
          9154.38,
          9154.06,
          9152.1,
          9140.91,
          9144.85,
          9144.63,
          9146.37,
          9149.48,
          9153.9,
          9142.2,
          9144.14,
          9149.99,
          9155.13,
          9158.51,
          9158.5,
          9150.2,
          9156.98,
          9155.58,
          9154.04,
          9149.76,
          9146.03,
          9152.71,
          9160.8,
          9159.76
         ],
         "low": [
          9122.57,
          9123.8,
          9121.47,
          9121.51,
          9121.52,
          9121.53,
          9121.64,
          9121.66,
          9121.55,
          9121.86,
          9128.38,
          9133.8,
          9135.88,
          9131.99,
          9129.53,
          9134.99,
          9135,
          9135.32,
          9147.71,
          9148.22,
          9149,
          9148.21,
          9148.21,
          9148.21,
          9148.21,
          9145.97,
          9135.43,
          9123.03,
          9116.45,
          9116.73,
          9123.77,
          9129.41,
          9135.77,
          9142.92,
          9144.58,
          9146.47,
          9147.86,
          9144.48,
          9145.49,
          9137.28,
          9136.85,
          9139.72,
          9138.84,
          9143.36,
          9146.54,
          9142.2,
          9133.47,
          9140.19,
          9149.99,
          9151.08,
          9152.1,
          9149.99,
          9148.01,
          9146.75,
          9141.53,
          9139.59,
          9139.31,
          9140.55,
          9146.12,
          9153.68
         ],
         "open": [
          9129.99,
          9123.8,
          9123.8,
          9121.51,
          9128.55,
          9128.69,
          9121.64,
          9121.66,
          9121.55,
          9121.86,
          9128.38,
          9139.65,
          9142.17,
          9134.82,
          9131.34,
          9134.99,
          9135,
          9135.32,
          9156.64,
          9157.45,
          9152.76,
          9149,
          9149,
          9148.24,
          9148.21,
          9152.49,
          9146.52,
          9141.49,
          9126.23,
          9116.73,
          9123.77,
          9129.41,
          9135.81,
          9144.78,
          9146.43,
          9146.47,
          9154.38,
          9144.48,
          9147.56,
          9140.91,
          9144.85,
          9144.63,
          9139.83,
          9143.36,
          9149.48,
          9142.2,
          9141.55,
          9140.19,
          9150,
          9151.08,
          9152.1,
          9150.2,
          9150.02,
          9149.04,
          9145.6,
          9143.22,
          9139.31,
          9145,
          9146.12,
          9153.76
         ],
         "type": "candlestick",
         "x": [
          "2020-03-06T23:00:00",
          "2020-03-06T23:01:00",
          "2020-03-06T23:02:00",
          "2020-03-06T23:03:00",
          "2020-03-06T23:04:00",
          "2020-03-06T23:05:00",
          "2020-03-06T23:06:00",
          "2020-03-06T23:07:00",
          "2020-03-06T23:08:00",
          "2020-03-06T23:09:00",
          "2020-03-06T23:10:00",
          "2020-03-06T23:11:00",
          "2020-03-06T23:12:00",
          "2020-03-06T23:13:00",
          "2020-03-06T23:14:00",
          "2020-03-06T23:15:00",
          "2020-03-06T23:16:00",
          "2020-03-06T23:17:00",
          "2020-03-06T23:18:00",
          "2020-03-06T23:19:00",
          "2020-03-06T23:20:00",
          "2020-03-06T23:21:00",
          "2020-03-06T23:22:00",
          "2020-03-06T23:23:00",
          "2020-03-06T23:24:00",
          "2020-03-06T23:25:00",
          "2020-03-06T23:26:00",
          "2020-03-06T23:27:00",
          "2020-03-06T23:28:00",
          "2020-03-06T23:29:00",
          "2020-03-06T23:30:00",
          "2020-03-06T23:31:00",
          "2020-03-06T23:32:00",
          "2020-03-06T23:33:00",
          "2020-03-06T23:34:00",
          "2020-03-06T23:35:00",
          "2020-03-06T23:36:00",
          "2020-03-06T23:37:00",
          "2020-03-06T23:38:00",
          "2020-03-06T23:39:00",
          "2020-03-06T23:40:00",
          "2020-03-06T23:41:00",
          "2020-03-06T23:42:00",
          "2020-03-06T23:43:00",
          "2020-03-06T23:44:00",
          "2020-03-06T23:45:00",
          "2020-03-06T23:46:00",
          "2020-03-06T23:47:00",
          "2020-03-06T23:48:00",
          "2020-03-06T23:49:00",
          "2020-03-06T23:50:00",
          "2020-03-06T23:51:00",
          "2020-03-06T23:52:00",
          "2020-03-06T23:53:00",
          "2020-03-06T23:54:00",
          "2020-03-06T23:55:00",
          "2020-03-06T23:56:00",
          "2020-03-06T23:57:00",
          "2020-03-06T23:58:00",
          "2020-03-06T23:59:00"
         ]
        }
       ],
       "layout": {
        "template": {
         "data": {
          "bar": [
           {
            "error_x": {
             "color": "#2a3f5f"
            },
            "error_y": {
             "color": "#2a3f5f"
            },
            "marker": {
             "line": {
              "color": "#E5ECF6",
              "width": 0.5
             }
            },
            "type": "bar"
           }
          ],
          "barpolar": [
           {
            "marker": {
             "line": {
              "color": "#E5ECF6",
              "width": 0.5
             }
            },
            "type": "barpolar"
           }
          ],
          "carpet": [
           {
            "aaxis": {
             "endlinecolor": "#2a3f5f",
             "gridcolor": "white",
             "linecolor": "white",
             "minorgridcolor": "white",
             "startlinecolor": "#2a3f5f"
            },
            "baxis": {
             "endlinecolor": "#2a3f5f",
             "gridcolor": "white",
             "linecolor": "white",
             "minorgridcolor": "white",
             "startlinecolor": "#2a3f5f"
            },
            "type": "carpet"
           }
          ],
          "choropleth": [
           {
            "colorbar": {
             "outlinewidth": 0,
             "ticks": ""
            },
            "type": "choropleth"
           }
          ],
          "contour": [
           {
            "colorbar": {
             "outlinewidth": 0,
             "ticks": ""
            },
            "colorscale": [
             [
              0,
              "#0d0887"
             ],
             [
              0.1111111111111111,
              "#46039f"
             ],
             [
              0.2222222222222222,
              "#7201a8"
             ],
             [
              0.3333333333333333,
              "#9c179e"
             ],
             [
              0.4444444444444444,
              "#bd3786"
             ],
             [
              0.5555555555555556,
              "#d8576b"
             ],
             [
              0.6666666666666666,
              "#ed7953"
             ],
             [
              0.7777777777777778,
              "#fb9f3a"
             ],
             [
              0.8888888888888888,
              "#fdca26"
             ],
             [
              1,
              "#f0f921"
             ]
            ],
            "type": "contour"
           }
          ],
          "contourcarpet": [
           {
            "colorbar": {
             "outlinewidth": 0,
             "ticks": ""
            },
            "type": "contourcarpet"
           }
          ],
          "heatmap": [
           {
            "colorbar": {
             "outlinewidth": 0,
             "ticks": ""
            },
            "colorscale": [
             [
              0,
              "#0d0887"
             ],
             [
              0.1111111111111111,
              "#46039f"
             ],
             [
              0.2222222222222222,
              "#7201a8"
             ],
             [
              0.3333333333333333,
              "#9c179e"
             ],
             [
              0.4444444444444444,
              "#bd3786"
             ],
             [
              0.5555555555555556,
              "#d8576b"
             ],
             [
              0.6666666666666666,
              "#ed7953"
             ],
             [
              0.7777777777777778,
              "#fb9f3a"
             ],
             [
              0.8888888888888888,
              "#fdca26"
             ],
             [
              1,
              "#f0f921"
             ]
            ],
            "type": "heatmap"
           }
          ],
          "heatmapgl": [
           {
            "colorbar": {
             "outlinewidth": 0,
             "ticks": ""
            },
            "colorscale": [
             [
              0,
              "#0d0887"
             ],
             [
              0.1111111111111111,
              "#46039f"
             ],
             [
              0.2222222222222222,
              "#7201a8"
             ],
             [
              0.3333333333333333,
              "#9c179e"
             ],
             [
              0.4444444444444444,
              "#bd3786"
             ],
             [
              0.5555555555555556,
              "#d8576b"
             ],
             [
              0.6666666666666666,
              "#ed7953"
             ],
             [
              0.7777777777777778,
              "#fb9f3a"
             ],
             [
              0.8888888888888888,
              "#fdca26"
             ],
             [
              1,
              "#f0f921"
             ]
            ],
            "type": "heatmapgl"
           }
          ],
          "histogram": [
           {
            "marker": {
             "colorbar": {
              "outlinewidth": 0,
              "ticks": ""
             }
            },
            "type": "histogram"
           }
          ],
          "histogram2d": [
           {
            "colorbar": {
             "outlinewidth": 0,
             "ticks": ""
            },
            "colorscale": [
             [
              0,
              "#0d0887"
             ],
             [
              0.1111111111111111,
              "#46039f"
             ],
             [
              0.2222222222222222,
              "#7201a8"
             ],
             [
              0.3333333333333333,
              "#9c179e"
             ],
             [
              0.4444444444444444,
              "#bd3786"
             ],
             [
              0.5555555555555556,
              "#d8576b"
             ],
             [
              0.6666666666666666,
              "#ed7953"
             ],
             [
              0.7777777777777778,
              "#fb9f3a"
             ],
             [
              0.8888888888888888,
              "#fdca26"
             ],
             [
              1,
              "#f0f921"
             ]
            ],
            "type": "histogram2d"
           }
          ],
          "histogram2dcontour": [
           {
            "colorbar": {
             "outlinewidth": 0,
             "ticks": ""
            },
            "colorscale": [
             [
              0,
              "#0d0887"
             ],
             [
              0.1111111111111111,
              "#46039f"
             ],
             [
              0.2222222222222222,
              "#7201a8"
             ],
             [
              0.3333333333333333,
              "#9c179e"
             ],
             [
              0.4444444444444444,
              "#bd3786"
             ],
             [
              0.5555555555555556,
              "#d8576b"
             ],
             [
              0.6666666666666666,
              "#ed7953"
             ],
             [
              0.7777777777777778,
              "#fb9f3a"
             ],
             [
              0.8888888888888888,
              "#fdca26"
             ],
             [
              1,
              "#f0f921"
             ]
            ],
            "type": "histogram2dcontour"
           }
          ],
          "mesh3d": [
           {
            "colorbar": {
             "outlinewidth": 0,
             "ticks": ""
            },
            "type": "mesh3d"
           }
          ],
          "parcoords": [
           {
            "line": {
             "colorbar": {
              "outlinewidth": 0,
              "ticks": ""
             }
            },
            "type": "parcoords"
           }
          ],
          "pie": [
           {
            "automargin": true,
            "type": "pie"
           }
          ],
          "scatter": [
           {
            "marker": {
             "colorbar": {
              "outlinewidth": 0,
              "ticks": ""
             }
            },
            "type": "scatter"
           }
          ],
          "scatter3d": [
           {
            "line": {
             "colorbar": {
              "outlinewidth": 0,
              "ticks": ""
             }
            },
            "marker": {
             "colorbar": {
              "outlinewidth": 0,
              "ticks": ""
             }
            },
            "type": "scatter3d"
           }
          ],
          "scattercarpet": [
           {
            "marker": {
             "colorbar": {
              "outlinewidth": 0,
              "ticks": ""
             }
            },
            "type": "scattercarpet"
           }
          ],
          "scattergeo": [
           {
            "marker": {
             "colorbar": {
              "outlinewidth": 0,
              "ticks": ""
             }
            },
            "type": "scattergeo"
           }
          ],
          "scattergl": [
           {
            "marker": {
             "colorbar": {
              "outlinewidth": 0,
              "ticks": ""
             }
            },
            "type": "scattergl"
           }
          ],
          "scattermapbox": [
           {
            "marker": {
             "colorbar": {
              "outlinewidth": 0,
              "ticks": ""
             }
            },
            "type": "scattermapbox"
           }
          ],
          "scatterpolar": [
           {
            "marker": {
             "colorbar": {
              "outlinewidth": 0,
              "ticks": ""
             }
            },
            "type": "scatterpolar"
           }
          ],
          "scatterpolargl": [
           {
            "marker": {
             "colorbar": {
              "outlinewidth": 0,
              "ticks": ""
             }
            },
            "type": "scatterpolargl"
           }
          ],
          "scatterternary": [
           {
            "marker": {
             "colorbar": {
              "outlinewidth": 0,
              "ticks": ""
             }
            },
            "type": "scatterternary"
           }
          ],
          "surface": [
           {
            "colorbar": {
             "outlinewidth": 0,
             "ticks": ""
            },
            "colorscale": [
             [
              0,
              "#0d0887"
             ],
             [
              0.1111111111111111,
              "#46039f"
             ],
             [
              0.2222222222222222,
              "#7201a8"
             ],
             [
              0.3333333333333333,
              "#9c179e"
             ],
             [
              0.4444444444444444,
              "#bd3786"
             ],
             [
              0.5555555555555556,
              "#d8576b"
             ],
             [
              0.6666666666666666,
              "#ed7953"
             ],
             [
              0.7777777777777778,
              "#fb9f3a"
             ],
             [
              0.8888888888888888,
              "#fdca26"
             ],
             [
              1,
              "#f0f921"
             ]
            ],
            "type": "surface"
           }
          ],
          "table": [
           {
            "cells": {
             "fill": {
              "color": "#EBF0F8"
             },
             "line": {
              "color": "white"
             }
            },
            "header": {
             "fill": {
              "color": "#C8D4E3"
             },
             "line": {
              "color": "white"
             }
            },
            "type": "table"
           }
          ]
         },
         "layout": {
          "annotationdefaults": {
           "arrowcolor": "#2a3f5f",
           "arrowhead": 0,
           "arrowwidth": 1
          },
          "coloraxis": {
           "colorbar": {
            "outlinewidth": 0,
            "ticks": ""
           }
          },
          "colorscale": {
           "diverging": [
            [
             0,
             "#8e0152"
            ],
            [
             0.1,
             "#c51b7d"
            ],
            [
             0.2,
             "#de77ae"
            ],
            [
             0.3,
             "#f1b6da"
            ],
            [
             0.4,
             "#fde0ef"
            ],
            [
             0.5,
             "#f7f7f7"
            ],
            [
             0.6,
             "#e6f5d0"
            ],
            [
             0.7,
             "#b8e186"
            ],
            [
             0.8,
             "#7fbc41"
            ],
            [
             0.9,
             "#4d9221"
            ],
            [
             1,
             "#276419"
            ]
           ],
           "sequential": [
            [
             0,
             "#0d0887"
            ],
            [
             0.1111111111111111,
             "#46039f"
            ],
            [
             0.2222222222222222,
             "#7201a8"
            ],
            [
             0.3333333333333333,
             "#9c179e"
            ],
            [
             0.4444444444444444,
             "#bd3786"
            ],
            [
             0.5555555555555556,
             "#d8576b"
            ],
            [
             0.6666666666666666,
             "#ed7953"
            ],
            [
             0.7777777777777778,
             "#fb9f3a"
            ],
            [
             0.8888888888888888,
             "#fdca26"
            ],
            [
             1,
             "#f0f921"
            ]
           ],
           "sequentialminus": [
            [
             0,
             "#0d0887"
            ],
            [
             0.1111111111111111,
             "#46039f"
            ],
            [
             0.2222222222222222,
             "#7201a8"
            ],
            [
             0.3333333333333333,
             "#9c179e"
            ],
            [
             0.4444444444444444,
             "#bd3786"
            ],
            [
             0.5555555555555556,
             "#d8576b"
            ],
            [
             0.6666666666666666,
             "#ed7953"
            ],
            [
             0.7777777777777778,
             "#fb9f3a"
            ],
            [
             0.8888888888888888,
             "#fdca26"
            ],
            [
             1,
             "#f0f921"
            ]
           ]
          },
          "colorway": [
           "#636efa",
           "#EF553B",
           "#00cc96",
           "#ab63fa",
           "#FFA15A",
           "#19d3f3",
           "#FF6692",
           "#B6E880",
           "#FF97FF",
           "#FECB52"
          ],
          "font": {
           "color": "#2a3f5f"
          },
          "geo": {
           "bgcolor": "white",
           "lakecolor": "white",
           "landcolor": "#E5ECF6",
           "showlakes": true,
           "showland": true,
           "subunitcolor": "white"
          },
          "hoverlabel": {
           "align": "left"
          },
          "hovermode": "closest",
          "mapbox": {
           "style": "light"
          },
          "paper_bgcolor": "white",
          "plot_bgcolor": "#E5ECF6",
          "polar": {
           "angularaxis": {
            "gridcolor": "white",
            "linecolor": "white",
            "ticks": ""
           },
           "bgcolor": "#E5ECF6",
           "radialaxis": {
            "gridcolor": "white",
            "linecolor": "white",
            "ticks": ""
           }
          },
          "scene": {
           "xaxis": {
            "backgroundcolor": "#E5ECF6",
            "gridcolor": "white",
            "gridwidth": 2,
            "linecolor": "white",
            "showbackground": true,
            "ticks": "",
            "zerolinecolor": "white"
           },
           "yaxis": {
            "backgroundcolor": "#E5ECF6",
            "gridcolor": "white",
            "gridwidth": 2,
            "linecolor": "white",
            "showbackground": true,
            "ticks": "",
            "zerolinecolor": "white"
           },
           "zaxis": {
            "backgroundcolor": "#E5ECF6",
            "gridcolor": "white",
            "gridwidth": 2,
            "linecolor": "white",
            "showbackground": true,
            "ticks": "",
            "zerolinecolor": "white"
           }
          },
          "shapedefaults": {
           "line": {
            "color": "#2a3f5f"
           }
          },
          "ternary": {
           "aaxis": {
            "gridcolor": "white",
            "linecolor": "white",
            "ticks": ""
           },
           "baxis": {
            "gridcolor": "white",
            "linecolor": "white",
            "ticks": ""
           },
           "bgcolor": "#E5ECF6",
           "caxis": {
            "gridcolor": "white",
            "linecolor": "white",
            "ticks": ""
           }
          },
          "title": {
           "x": 0.05
          },
          "xaxis": {
           "automargin": true,
           "gridcolor": "white",
           "linecolor": "white",
           "ticks": "",
           "title": {
            "standoff": 15
           },
           "zerolinecolor": "white",
           "zerolinewidth": 2
          },
          "yaxis": {
           "automargin": true,
           "gridcolor": "white",
           "linecolor": "white",
           "ticks": "",
           "title": {
            "standoff": 15
           },
           "zerolinecolor": "white",
           "zerolinewidth": 2
          }
         }
        }
       }
      },
      "text/html": [
       "<div>\n",
       "        \n",
       "        \n",
       "            <div id=\"bb7a88de-dc83-452d-8378-eda5daf914ca\" class=\"plotly-graph-div\" style=\"height:525px; width:100%;\"></div>\n",
       "            <script type=\"text/javascript\">\n",
       "                require([\"plotly\"], function(Plotly) {\n",
       "                    window.PLOTLYENV=window.PLOTLYENV || {};\n",
       "                    \n",
       "                if (document.getElementById(\"bb7a88de-dc83-452d-8378-eda5daf914ca\")) {\n",
       "                    Plotly.newPlot(\n",
       "                        'bb7a88de-dc83-452d-8378-eda5daf914ca',\n",
       "                        [{\"close\": [9130.0, 9123.8, 9128.0, 9129.01, 9128.79, 9121.53, 9129.99, 9121.66, 9130.0, 9130.0, 9129.36, 9134.9, 9142.23, 9131.99, 9140.16, 9140.0, 9135.01, 9147.7, 9149.3, 9148.78, 9152.76, 9149.0, 9148.46, 9148.21, 9152.5, 9145.97, 9135.43, 9131.99, 9116.45, 9123.44, 9136.69, 9132.41, 9138.82, 9146.44, 9146.47, 9147.75, 9150.73, 9147.56, 9149.81, 9137.28, 9137.38, 9139.83, 9138.84, 9149.48, 9146.54, 9142.2, 9144.14, 9144.59, 9155.13, 9158.51, 9158.5, 9149.99, 9156.55, 9153.52, 9150.31, 9139.59, 9139.45, 9145.4, 9155.65, 9153.79], \"high\": [9130.0, 9123.8, 9128.09, 9129.01, 9129.81, 9128.69, 9129.99, 9121.66, 9130.0, 9130.0, 9138.9, 9142.27, 9142.33, 9136.93, 9140.16, 9140.0, 9141.8, 9157.0, 9156.64, 9157.45, 9152.76, 9149.19, 9154.65, 9153.23, 9152.5, 9152.49, 9152.43, 9141.49, 9126.25, 9129.75, 9136.69, 9135.81, 9138.82, 9155.21, 9152.94, 9153.53, 9154.38, 9154.06, 9152.1, 9140.91, 9144.85, 9144.63, 9146.37, 9149.48, 9153.9, 9142.2, 9144.14, 9149.99, 9155.13, 9158.51, 9158.5, 9150.2, 9156.98, 9155.58, 9154.04, 9149.76, 9146.03, 9152.71, 9160.8, 9159.76], \"low\": [9122.57, 9123.8, 9121.47, 9121.51, 9121.52, 9121.53, 9121.64, 9121.66, 9121.55, 9121.86, 9128.38, 9133.8, 9135.88, 9131.99, 9129.53, 9134.99, 9135.0, 9135.32, 9147.71, 9148.22, 9149.0, 9148.21, 9148.21, 9148.21, 9148.21, 9145.97, 9135.43, 9123.03, 9116.45, 9116.73, 9123.77, 9129.41, 9135.77, 9142.92, 9144.58, 9146.47, 9147.86, 9144.48, 9145.49, 9137.28, 9136.85, 9139.72, 9138.84, 9143.36, 9146.54, 9142.2, 9133.47, 9140.19, 9149.99, 9151.08, 9152.1, 9149.99, 9148.01, 9146.75, 9141.53, 9139.59, 9139.31, 9140.55, 9146.12, 9153.68], \"open\": [9129.99, 9123.8, 9123.8, 9121.51, 9128.55, 9128.69, 9121.64, 9121.66, 9121.55, 9121.86, 9128.38, 9139.65, 9142.17, 9134.82, 9131.34, 9134.99, 9135.0, 9135.32, 9156.64, 9157.45, 9152.76, 9149.0, 9149.0, 9148.24, 9148.21, 9152.49, 9146.52, 9141.49, 9126.23, 9116.73, 9123.77, 9129.41, 9135.81, 9144.78, 9146.43, 9146.47, 9154.38, 9144.48, 9147.56, 9140.91, 9144.85, 9144.63, 9139.83, 9143.36, 9149.48, 9142.2, 9141.55, 9140.19, 9150.0, 9151.08, 9152.1, 9150.2, 9150.02, 9149.04, 9145.6, 9143.22, 9139.31, 9145.0, 9146.12, 9153.76], \"type\": \"candlestick\", \"x\": [\"2020-03-06T23:00:00\", \"2020-03-06T23:01:00\", \"2020-03-06T23:02:00\", \"2020-03-06T23:03:00\", \"2020-03-06T23:04:00\", \"2020-03-06T23:05:00\", \"2020-03-06T23:06:00\", \"2020-03-06T23:07:00\", \"2020-03-06T23:08:00\", \"2020-03-06T23:09:00\", \"2020-03-06T23:10:00\", \"2020-03-06T23:11:00\", \"2020-03-06T23:12:00\", \"2020-03-06T23:13:00\", \"2020-03-06T23:14:00\", \"2020-03-06T23:15:00\", \"2020-03-06T23:16:00\", \"2020-03-06T23:17:00\", \"2020-03-06T23:18:00\", \"2020-03-06T23:19:00\", \"2020-03-06T23:20:00\", \"2020-03-06T23:21:00\", \"2020-03-06T23:22:00\", \"2020-03-06T23:23:00\", \"2020-03-06T23:24:00\", \"2020-03-06T23:25:00\", \"2020-03-06T23:26:00\", \"2020-03-06T23:27:00\", \"2020-03-06T23:28:00\", \"2020-03-06T23:29:00\", \"2020-03-06T23:30:00\", \"2020-03-06T23:31:00\", \"2020-03-06T23:32:00\", \"2020-03-06T23:33:00\", \"2020-03-06T23:34:00\", \"2020-03-06T23:35:00\", \"2020-03-06T23:36:00\", \"2020-03-06T23:37:00\", \"2020-03-06T23:38:00\", \"2020-03-06T23:39:00\", \"2020-03-06T23:40:00\", \"2020-03-06T23:41:00\", \"2020-03-06T23:42:00\", \"2020-03-06T23:43:00\", \"2020-03-06T23:44:00\", \"2020-03-06T23:45:00\", \"2020-03-06T23:46:00\", \"2020-03-06T23:47:00\", \"2020-03-06T23:48:00\", \"2020-03-06T23:49:00\", \"2020-03-06T23:50:00\", \"2020-03-06T23:51:00\", \"2020-03-06T23:52:00\", \"2020-03-06T23:53:00\", \"2020-03-06T23:54:00\", \"2020-03-06T23:55:00\", \"2020-03-06T23:56:00\", \"2020-03-06T23:57:00\", \"2020-03-06T23:58:00\", \"2020-03-06T23:59:00\"]}],\n",
       "                        {\"template\": {\"data\": {\"bar\": [{\"error_x\": {\"color\": \"#2a3f5f\"}, \"error_y\": {\"color\": \"#2a3f5f\"}, \"marker\": {\"line\": {\"color\": \"#E5ECF6\", \"width\": 0.5}}, \"type\": \"bar\"}], \"barpolar\": [{\"marker\": {\"line\": {\"color\": \"#E5ECF6\", \"width\": 0.5}}, \"type\": \"barpolar\"}], \"carpet\": [{\"aaxis\": {\"endlinecolor\": \"#2a3f5f\", \"gridcolor\": \"white\", \"linecolor\": \"white\", \"minorgridcolor\": \"white\", \"startlinecolor\": \"#2a3f5f\"}, \"baxis\": {\"endlinecolor\": \"#2a3f5f\", \"gridcolor\": \"white\", \"linecolor\": \"white\", \"minorgridcolor\": \"white\", \"startlinecolor\": \"#2a3f5f\"}, \"type\": \"carpet\"}], \"choropleth\": [{\"colorbar\": {\"outlinewidth\": 0, \"ticks\": \"\"}, \"type\": \"choropleth\"}], \"contour\": [{\"colorbar\": {\"outlinewidth\": 0, \"ticks\": \"\"}, \"colorscale\": [[0.0, \"#0d0887\"], [0.1111111111111111, \"#46039f\"], [0.2222222222222222, \"#7201a8\"], [0.3333333333333333, \"#9c179e\"], [0.4444444444444444, \"#bd3786\"], [0.5555555555555556, \"#d8576b\"], [0.6666666666666666, \"#ed7953\"], [0.7777777777777778, \"#fb9f3a\"], [0.8888888888888888, \"#fdca26\"], [1.0, \"#f0f921\"]], \"type\": \"contour\"}], \"contourcarpet\": [{\"colorbar\": {\"outlinewidth\": 0, \"ticks\": \"\"}, \"type\": \"contourcarpet\"}], \"heatmap\": [{\"colorbar\": {\"outlinewidth\": 0, \"ticks\": \"\"}, \"colorscale\": [[0.0, \"#0d0887\"], [0.1111111111111111, \"#46039f\"], [0.2222222222222222, \"#7201a8\"], [0.3333333333333333, \"#9c179e\"], [0.4444444444444444, \"#bd3786\"], [0.5555555555555556, \"#d8576b\"], [0.6666666666666666, \"#ed7953\"], [0.7777777777777778, \"#fb9f3a\"], [0.8888888888888888, \"#fdca26\"], [1.0, \"#f0f921\"]], \"type\": \"heatmap\"}], \"heatmapgl\": [{\"colorbar\": {\"outlinewidth\": 0, \"ticks\": \"\"}, \"colorscale\": [[0.0, \"#0d0887\"], [0.1111111111111111, \"#46039f\"], [0.2222222222222222, \"#7201a8\"], [0.3333333333333333, \"#9c179e\"], [0.4444444444444444, \"#bd3786\"], [0.5555555555555556, \"#d8576b\"], [0.6666666666666666, \"#ed7953\"], [0.7777777777777778, \"#fb9f3a\"], [0.8888888888888888, \"#fdca26\"], [1.0, \"#f0f921\"]], \"type\": \"heatmapgl\"}], \"histogram\": [{\"marker\": {\"colorbar\": {\"outlinewidth\": 0, \"ticks\": \"\"}}, \"type\": \"histogram\"}], \"histogram2d\": [{\"colorbar\": {\"outlinewidth\": 0, \"ticks\": \"\"}, \"colorscale\": [[0.0, \"#0d0887\"], [0.1111111111111111, \"#46039f\"], [0.2222222222222222, \"#7201a8\"], [0.3333333333333333, \"#9c179e\"], [0.4444444444444444, \"#bd3786\"], [0.5555555555555556, \"#d8576b\"], [0.6666666666666666, \"#ed7953\"], [0.7777777777777778, \"#fb9f3a\"], [0.8888888888888888, \"#fdca26\"], [1.0, \"#f0f921\"]], \"type\": \"histogram2d\"}], \"histogram2dcontour\": [{\"colorbar\": {\"outlinewidth\": 0, \"ticks\": \"\"}, \"colorscale\": [[0.0, \"#0d0887\"], [0.1111111111111111, \"#46039f\"], [0.2222222222222222, \"#7201a8\"], [0.3333333333333333, \"#9c179e\"], [0.4444444444444444, \"#bd3786\"], [0.5555555555555556, \"#d8576b\"], [0.6666666666666666, \"#ed7953\"], [0.7777777777777778, \"#fb9f3a\"], [0.8888888888888888, \"#fdca26\"], [1.0, \"#f0f921\"]], \"type\": \"histogram2dcontour\"}], \"mesh3d\": [{\"colorbar\": {\"outlinewidth\": 0, \"ticks\": \"\"}, \"type\": \"mesh3d\"}], \"parcoords\": [{\"line\": {\"colorbar\": {\"outlinewidth\": 0, \"ticks\": \"\"}}, \"type\": \"parcoords\"}], \"pie\": [{\"automargin\": true, \"type\": \"pie\"}], \"scatter\": [{\"marker\": {\"colorbar\": {\"outlinewidth\": 0, \"ticks\": \"\"}}, \"type\": \"scatter\"}], \"scatter3d\": [{\"line\": {\"colorbar\": {\"outlinewidth\": 0, \"ticks\": \"\"}}, \"marker\": {\"colorbar\": {\"outlinewidth\": 0, \"ticks\": \"\"}}, \"type\": \"scatter3d\"}], \"scattercarpet\": [{\"marker\": {\"colorbar\": {\"outlinewidth\": 0, \"ticks\": \"\"}}, \"type\": \"scattercarpet\"}], \"scattergeo\": [{\"marker\": {\"colorbar\": {\"outlinewidth\": 0, \"ticks\": \"\"}}, \"type\": \"scattergeo\"}], \"scattergl\": [{\"marker\": {\"colorbar\": {\"outlinewidth\": 0, \"ticks\": \"\"}}, \"type\": \"scattergl\"}], \"scattermapbox\": [{\"marker\": {\"colorbar\": {\"outlinewidth\": 0, \"ticks\": \"\"}}, \"type\": \"scattermapbox\"}], \"scatterpolar\": [{\"marker\": {\"colorbar\": {\"outlinewidth\": 0, \"ticks\": \"\"}}, \"type\": \"scatterpolar\"}], \"scatterpolargl\": [{\"marker\": {\"colorbar\": {\"outlinewidth\": 0, \"ticks\": \"\"}}, \"type\": \"scatterpolargl\"}], \"scatterternary\": [{\"marker\": {\"colorbar\": {\"outlinewidth\": 0, \"ticks\": \"\"}}, \"type\": \"scatterternary\"}], \"surface\": [{\"colorbar\": {\"outlinewidth\": 0, \"ticks\": \"\"}, \"colorscale\": [[0.0, \"#0d0887\"], [0.1111111111111111, \"#46039f\"], [0.2222222222222222, \"#7201a8\"], [0.3333333333333333, \"#9c179e\"], [0.4444444444444444, \"#bd3786\"], [0.5555555555555556, \"#d8576b\"], [0.6666666666666666, \"#ed7953\"], [0.7777777777777778, \"#fb9f3a\"], [0.8888888888888888, \"#fdca26\"], [1.0, \"#f0f921\"]], \"type\": \"surface\"}], \"table\": [{\"cells\": {\"fill\": {\"color\": \"#EBF0F8\"}, \"line\": {\"color\": \"white\"}}, \"header\": {\"fill\": {\"color\": \"#C8D4E3\"}, \"line\": {\"color\": \"white\"}}, \"type\": \"table\"}]}, \"layout\": {\"annotationdefaults\": {\"arrowcolor\": \"#2a3f5f\", \"arrowhead\": 0, \"arrowwidth\": 1}, \"coloraxis\": {\"colorbar\": {\"outlinewidth\": 0, \"ticks\": \"\"}}, \"colorscale\": {\"diverging\": [[0, \"#8e0152\"], [0.1, \"#c51b7d\"], [0.2, \"#de77ae\"], [0.3, \"#f1b6da\"], [0.4, \"#fde0ef\"], [0.5, \"#f7f7f7\"], [0.6, \"#e6f5d0\"], [0.7, \"#b8e186\"], [0.8, \"#7fbc41\"], [0.9, \"#4d9221\"], [1, \"#276419\"]], \"sequential\": [[0.0, \"#0d0887\"], [0.1111111111111111, \"#46039f\"], [0.2222222222222222, \"#7201a8\"], [0.3333333333333333, \"#9c179e\"], [0.4444444444444444, \"#bd3786\"], [0.5555555555555556, \"#d8576b\"], [0.6666666666666666, \"#ed7953\"], [0.7777777777777778, \"#fb9f3a\"], [0.8888888888888888, \"#fdca26\"], [1.0, \"#f0f921\"]], \"sequentialminus\": [[0.0, \"#0d0887\"], [0.1111111111111111, \"#46039f\"], [0.2222222222222222, \"#7201a8\"], [0.3333333333333333, \"#9c179e\"], [0.4444444444444444, \"#bd3786\"], [0.5555555555555556, \"#d8576b\"], [0.6666666666666666, \"#ed7953\"], [0.7777777777777778, \"#fb9f3a\"], [0.8888888888888888, \"#fdca26\"], [1.0, \"#f0f921\"]]}, \"colorway\": [\"#636efa\", \"#EF553B\", \"#00cc96\", \"#ab63fa\", \"#FFA15A\", \"#19d3f3\", \"#FF6692\", \"#B6E880\", \"#FF97FF\", \"#FECB52\"], \"font\": {\"color\": \"#2a3f5f\"}, \"geo\": {\"bgcolor\": \"white\", \"lakecolor\": \"white\", \"landcolor\": \"#E5ECF6\", \"showlakes\": true, \"showland\": true, \"subunitcolor\": \"white\"}, \"hoverlabel\": {\"align\": \"left\"}, \"hovermode\": \"closest\", \"mapbox\": {\"style\": \"light\"}, \"paper_bgcolor\": \"white\", \"plot_bgcolor\": \"#E5ECF6\", \"polar\": {\"angularaxis\": {\"gridcolor\": \"white\", \"linecolor\": \"white\", \"ticks\": \"\"}, \"bgcolor\": \"#E5ECF6\", \"radialaxis\": {\"gridcolor\": \"white\", \"linecolor\": \"white\", \"ticks\": \"\"}}, \"scene\": {\"xaxis\": {\"backgroundcolor\": \"#E5ECF6\", \"gridcolor\": \"white\", \"gridwidth\": 2, \"linecolor\": \"white\", \"showbackground\": true, \"ticks\": \"\", \"zerolinecolor\": \"white\"}, \"yaxis\": {\"backgroundcolor\": \"#E5ECF6\", \"gridcolor\": \"white\", \"gridwidth\": 2, \"linecolor\": \"white\", \"showbackground\": true, \"ticks\": \"\", \"zerolinecolor\": \"white\"}, \"zaxis\": {\"backgroundcolor\": \"#E5ECF6\", \"gridcolor\": \"white\", \"gridwidth\": 2, \"linecolor\": \"white\", \"showbackground\": true, \"ticks\": \"\", \"zerolinecolor\": \"white\"}}, \"shapedefaults\": {\"line\": {\"color\": \"#2a3f5f\"}}, \"ternary\": {\"aaxis\": {\"gridcolor\": \"white\", \"linecolor\": \"white\", \"ticks\": \"\"}, \"baxis\": {\"gridcolor\": \"white\", \"linecolor\": \"white\", \"ticks\": \"\"}, \"bgcolor\": \"#E5ECF6\", \"caxis\": {\"gridcolor\": \"white\", \"linecolor\": \"white\", \"ticks\": \"\"}}, \"title\": {\"x\": 0.05}, \"xaxis\": {\"automargin\": true, \"gridcolor\": \"white\", \"linecolor\": \"white\", \"ticks\": \"\", \"title\": {\"standoff\": 15}, \"zerolinecolor\": \"white\", \"zerolinewidth\": 2}, \"yaxis\": {\"automargin\": true, \"gridcolor\": \"white\", \"linecolor\": \"white\", \"ticks\": \"\", \"title\": {\"standoff\": 15}, \"zerolinecolor\": \"white\", \"zerolinewidth\": 2}}}},\n",
       "                        {\"responsive\": true}\n",
       "                    ).then(function(){\n",
       "                            \n",
       "var gd = document.getElementById('bb7a88de-dc83-452d-8378-eda5daf914ca');\n",
       "var x = new MutationObserver(function (mutations, observer) {{\n",
       "        var display = window.getComputedStyle(gd).display;\n",
       "        if (!display || display === 'none') {{\n",
       "            console.log([gd, 'removed!']);\n",
       "            Plotly.purge(gd);\n",
       "            observer.disconnect();\n",
       "        }}\n",
       "}});\n",
       "\n",
       "// Listen for the removal of the full notebook cells\n",
       "var notebookContainer = gd.closest('#notebook-container');\n",
       "if (notebookContainer) {{\n",
       "    x.observe(notebookContainer, {childList: true});\n",
       "}}\n",
       "\n",
       "// Listen for the clearing of the current output cell\n",
       "var outputEl = gd.closest('.output');\n",
       "if (outputEl) {{\n",
       "    x.observe(outputEl, {childList: true});\n",
       "}}\n",
       "\n",
       "                        })\n",
       "                };\n",
       "                });\n",
       "            </script>\n",
       "        </div>"
      ]
     },
     "metadata": {},
     "output_type": "display_data"
    }
   ],
   "source": [
    "import plotly.graph_objects as go\n",
    "\n",
    "sample = ohlc_data.tail(60)\n",
    "\n",
    "fig = go.Figure(data=[go.Candlestick(x=sample.index,\n",
    "                open=sample.open,\n",
    "                high=sample.high,\n",
    "                low=sample.low,\n",
    "                close=sample.close)])\n",
    "\n",
    "fig.show()"
   ]
  },
  {
   "cell_type": "markdown",
   "metadata": {},
   "source": [
    "### Visualize Time of Stress\n",
    "\n",
    "Lets look at a period where we observed say a 99.95% VaR (value at risk), basically large loss."
   ]
  },
  {
   "cell_type": "code",
   "execution_count": 57,
   "metadata": {},
   "outputs": [
    {
     "data": {
      "text/plain": [
       "-0.05284625943719967"
      ]
     },
     "execution_count": 57,
     "metadata": {},
     "output_type": "execute_result"
    }
   ],
   "source": [
    "perc = 1 - 0.9995\n",
    "idx = int(ohlc_data.shape[0] * perc) # approximation\n",
    "# Get 30 minute returns\n",
    "var = ohlc_data[\"close\"].pct_change(30).dropna().sort_values().iloc[idx]\n",
    "var"
   ]
  },
  {
   "cell_type": "code",
   "execution_count": 59,
   "metadata": {},
   "outputs": [
    {
     "data": {
      "text/html": [
       "<div>\n",
       "<style scoped>\n",
       "    .dataframe tbody tr th:only-of-type {\n",
       "        vertical-align: middle;\n",
       "    }\n",
       "\n",
       "    .dataframe tbody tr th {\n",
       "        vertical-align: top;\n",
       "    }\n",
       "\n",
       "    .dataframe thead th {\n",
       "        text-align: right;\n",
       "    }\n",
       "</style>\n",
       "<table border=\"1\" class=\"dataframe\">\n",
       "  <thead>\n",
       "    <tr style=\"text-align: right;\">\n",
       "      <th></th>\n",
       "      <th>volume</th>\n",
       "      <th>open</th>\n",
       "      <th>high</th>\n",
       "      <th>low</th>\n",
       "      <th>close</th>\n",
       "    </tr>\n",
       "    <tr>\n",
       "      <th>TimeStamp</th>\n",
       "      <th></th>\n",
       "      <th></th>\n",
       "      <th></th>\n",
       "      <th></th>\n",
       "      <th></th>\n",
       "    </tr>\n",
       "  </thead>\n",
       "  <tbody>\n",
       "    <tr>\n",
       "      <th>2017-12-22 23:46:00</th>\n",
       "      <td>24.938345</td>\n",
       "      <td>13767.01</td>\n",
       "      <td>13900.0</td>\n",
       "      <td>13665.54</td>\n",
       "      <td>13800.03</td>\n",
       "    </tr>\n",
       "  </tbody>\n",
       "</table>\n",
       "</div>"
      ],
      "text/plain": [
       "                        volume      open     high       low     close\n",
       "TimeStamp                                                            \n",
       "2017-12-22 23:46:00  24.938345  13767.01  13900.0  13665.54  13800.03"
      ]
     },
     "execution_count": 59,
     "metadata": {},
     "output_type": "execute_result"
    }
   ],
   "source": [
    "ohlc_data.loc[ohlc_data[\"close\"].pct_change(30) == var]"
   ]
  },
  {
   "cell_type": "markdown",
   "metadata": {},
   "source": [
    "Based on the above let's look at the trading window from 10pm- 12am during 22-23 Dec 2017"
   ]
  },
  {
   "cell_type": "code",
   "execution_count": 60,
   "metadata": {},
   "outputs": [
    {
     "data": {
      "application/vnd.plotly.v1+json": {
       "config": {
        "plotlyServerURL": "https://plot.ly"
       },
       "data": [
        {
         "close": [
          null,
          null,
          null,
          null,
          14250.01,
          14280,
          14318.23,
          14327,
          14283,
          14300,
          14299,
          14290,
          14300,
          14208.89,
          14299.99,
          14281,
          14330,
          14330,
          14383.85,
          14350.79,
          14348.89,
          14350.2,
          14380.5,
          14401.67,
          14499.33,
          14550,
          14550,
          14550.17,
          14480.02,
          14427.95,
          14499.88,
          14500,
          14500,
          14551.99,
          14485.08,
          14547,
          14552,
          14582.63,
          14610.85,
          14655.65,
          14666,
          14639,
          14670,
          14669,
          14680,
          14680,
          14698.99,
          14699.99,
          14780,
          14780,
          14802.76,
          14820.1,
          14780.1,
          14704.02,
          14700.13,
          14717.85,
          14799.5,
          14830,
          14839.76,
          14847,
          14800,
          14700,
          14726.68,
          14599.11,
          14540,
          14563.05,
          14599.99,
          14600,
          14676,
          14601,
          14540,
          14644,
          14665.74,
          14570.1,
          14556.7,
          14594.97,
          14570,
          14650,
          14637.22,
          14690,
          14749.88,
          14716.93,
          14749,
          14641.78,
          14624.99,
          14617.87,
          14450,
          14329.98,
          14187.57,
          13976.61,
          13839.41,
          14018,
          14221.66,
          14300,
          14001.72,
          14001.72,
          14231.78,
          13990,
          13830.03,
          13765.38,
          13767.01,
          13734.45,
          13767.01,
          13696.79,
          13631.92,
          13767.01,
          13800.03,
          13798.97,
          13597.96,
          13654.36,
          13791.21,
          13803.97,
          13786.05,
          13848.94,
          13941.75,
          13941.74,
          13941.75,
          13888.2,
          13976.61,
          14009.79,
          13999.98
         ],
         "high": [
          null,
          null,
          null,
          null,
          14250.01,
          14342.52,
          14342.52,
          14342.52,
          14342.52,
          14300,
          14300,
          14300,
          14300,
          14299.99,
          14335,
          14332.87,
          14330,
          14347.05,
          14383.85,
          14423.13,
          14380.4,
          14398.92,
          14423.13,
          14422.88,
          14499.33,
          14550,
          14560,
          14575,
          14575,
          14480,
          14500,
          14500,
          14538.4,
          14552,
          14549,
          14548.84,
          14553.4,
          14582.64,
          14619.1,
          14655.65,
          14666,
          14692.29,
          14689.98,
          14670,
          14680,
          14680,
          14700.03,
          14700,
          14780,
          14780,
          14802.76,
          14835,
          14835,
          14780.1,
          14750,
          14780.1,
          14799.5,
          14834.99,
          14839.76,
          14847,
          14864,
          14800,
          14787,
          14726.68,
          14635,
          14602.12,
          14635,
          14635,
          14699.97,
          14699.96,
          14602.85,
          14644,
          14726,
          14741.46,
          14652.56,
          14652.51,
          14653.96,
          14681.32,
          14690,
          14705.75,
          14749.9,
          14750,
          14786.77,
          14749,
          14660.01,
          14714.1,
          14617.87,
          14450,
          14329.98,
          14200,
          13999.99,
          14127.39,
          14221.71,
          14318.55,
          14329.98,
          14001.72,
          14231.79,
          14231.76,
          14009.99,
          13850.11,
          13917.89,
          13767.01,
          13767.01,
          13767.01,
          13696.79,
          13767.01,
          13900,
          13852.05,
          13830.04,
          13671.29,
          13800.08,
          13820,
          13872.31,
          13848.94,
          13941.75,
          13941.75,
          13941.75,
          13976.61,
          13976.61,
          14011.55,
          14009.79
         ],
         "low": [
          null,
          null,
          null,
          null,
          14199,
          14199.02,
          14242.63,
          14263.4,
          14282,
          14282,
          14250.94,
          14262.98,
          14275,
          14208.89,
          14204.88,
          14236.12,
          14260.03,
          14300.03,
          14300.04,
          14348.88,
          14330.95,
          14330.95,
          14350.49,
          14400,
          14400.1,
          14479.2,
          14517.57,
          14482.48,
          14480.02,
          14300,
          14406.79,
          14400.01,
          14500,
          14500,
          14421.57,
          14446.09,
          14499,
          14505.02,
          14560.67,
          14605.36,
          14638.1,
          14639,
          14599.2,
          14629.42,
          14670.76,
          14673.7,
          14676.52,
          14694.81,
          14699.58,
          14714.4,
          14750.62,
          14800,
          14695.51,
          14695.52,
          14695.51,
          14700.13,
          14739.35,
          14799.1,
          14807.17,
          14816.41,
          14768.07,
          14695.51,
          14632.58,
          14590,
          14523.48,
          14523.6,
          14536.08,
          14553.83,
          14568.76,
          14600,
          14540,
          14530,
          14557.16,
          14570.1,
          14556.7,
          14550,
          14570,
          14550,
          14592.03,
          14629.81,
          14700,
          14700.49,
          14649.98,
          14609,
          14570.01,
          14575.62,
          14450,
          14329.98,
          14187.57,
          13976.61,
          13768.78,
          13799.77,
          14062.28,
          14177.01,
          14001.72,
          13920,
          14000.91,
          13990,
          13830.03,
          13734.45,
          13735,
          13734.45,
          13677,
          13660,
          13597.96,
          13599.99,
          13665.54,
          13614.42,
          13597.96,
          13564.05,
          13621.03,
          13600,
          13716.01,
          13564.06,
          13758.09,
          13837.97,
          13838.08,
          13831.06,
          13820.03,
          13941.66,
          13825.09
         ],
         "open": [
          null,
          null,
          null,
          null,
          14199,
          14250.01,
          14280,
          14318.23,
          14327,
          14300,
          14300,
          14299,
          14290,
          14275,
          14205,
          14331.84,
          14281,
          14330,
          14330.95,
          14387.01,
          14350.4,
          14350,
          14350.49,
          14422,
          14401.67,
          14499.98,
          14550,
          14517.58,
          14550.17,
          14480,
          14428.7,
          14499.99,
          14500,
          14538.34,
          14517.33,
          14485.08,
          14541,
          14552,
          14582.63,
          14613.41,
          14655.65,
          14666,
          14637,
          14670,
          14677.98,
          14680,
          14680,
          14698.99,
          14699.99,
          14779,
          14780,
          14800.04,
          14835,
          14755.85,
          14695.52,
          14700.13,
          14764.89,
          14799.5,
          14830,
          14839.76,
          14847,
          14800,
          14692.31,
          14726.66,
          14599.98,
          14540,
          14563,
          14580.17,
          14612,
          14678.63,
          14600,
          14540,
          14557.16,
          14693.89,
          14574.51,
          14652.51,
          14620.11,
          14570,
          14649.99,
          14637.22,
          14705.7,
          14700.49,
          14748.95,
          14749,
          14635,
          14624.99,
          14617.87,
          14450,
          14329.98,
          14194.9,
          13976.61,
          13899.99,
          14062.28,
          14177.01,
          14300,
          14001.72,
          14000.91,
          14230,
          13990,
          13827,
          13758.79,
          13767,
          13731,
          13758.92,
          13695.31,
          13631.92,
          13767.01,
          13800.09,
          13798.97,
          13605.43,
          13654.35,
          13761.14,
          13803.97,
          13785.14,
          13758.09,
          13941.75,
          13920,
          13941.73,
          13888.2,
          13976.6,
          13980
         ],
         "type": "candlestick",
         "x": [
          "2017-12-22T22:00:00",
          "2017-12-22T22:01:00",
          "2017-12-22T22:02:00",
          "2017-12-22T22:03:00",
          "2017-12-22T22:04:00",
          "2017-12-22T22:05:00",
          "2017-12-22T22:06:00",
          "2017-12-22T22:07:00",
          "2017-12-22T22:08:00",
          "2017-12-22T22:09:00",
          "2017-12-22T22:10:00",
          "2017-12-22T22:11:00",
          "2017-12-22T22:12:00",
          "2017-12-22T22:13:00",
          "2017-12-22T22:14:00",
          "2017-12-22T22:15:00",
          "2017-12-22T22:16:00",
          "2017-12-22T22:17:00",
          "2017-12-22T22:18:00",
          "2017-12-22T22:19:00",
          "2017-12-22T22:20:00",
          "2017-12-22T22:21:00",
          "2017-12-22T22:22:00",
          "2017-12-22T22:23:00",
          "2017-12-22T22:24:00",
          "2017-12-22T22:25:00",
          "2017-12-22T22:26:00",
          "2017-12-22T22:27:00",
          "2017-12-22T22:28:00",
          "2017-12-22T22:29:00",
          "2017-12-22T22:30:00",
          "2017-12-22T22:31:00",
          "2017-12-22T22:32:00",
          "2017-12-22T22:33:00",
          "2017-12-22T22:34:00",
          "2017-12-22T22:35:00",
          "2017-12-22T22:36:00",
          "2017-12-22T22:37:00",
          "2017-12-22T22:38:00",
          "2017-12-22T22:39:00",
          "2017-12-22T22:40:00",
          "2017-12-22T22:41:00",
          "2017-12-22T22:42:00",
          "2017-12-22T22:43:00",
          "2017-12-22T22:44:00",
          "2017-12-22T22:45:00",
          "2017-12-22T22:46:00",
          "2017-12-22T22:47:00",
          "2017-12-22T22:48:00",
          "2017-12-22T22:49:00",
          "2017-12-22T22:50:00",
          "2017-12-22T22:51:00",
          "2017-12-22T22:52:00",
          "2017-12-22T22:53:00",
          "2017-12-22T22:54:00",
          "2017-12-22T22:55:00",
          "2017-12-22T22:56:00",
          "2017-12-22T22:57:00",
          "2017-12-22T22:58:00",
          "2017-12-22T22:59:00",
          "2017-12-22T23:00:00",
          "2017-12-22T23:01:00",
          "2017-12-22T23:02:00",
          "2017-12-22T23:03:00",
          "2017-12-22T23:04:00",
          "2017-12-22T23:05:00",
          "2017-12-22T23:06:00",
          "2017-12-22T23:07:00",
          "2017-12-22T23:08:00",
          "2017-12-22T23:09:00",
          "2017-12-22T23:10:00",
          "2017-12-22T23:11:00",
          "2017-12-22T23:12:00",
          "2017-12-22T23:13:00",
          "2017-12-22T23:14:00",
          "2017-12-22T23:15:00",
          "2017-12-22T23:16:00",
          "2017-12-22T23:17:00",
          "2017-12-22T23:18:00",
          "2017-12-22T23:19:00",
          "2017-12-22T23:20:00",
          "2017-12-22T23:21:00",
          "2017-12-22T23:22:00",
          "2017-12-22T23:23:00",
          "2017-12-22T23:24:00",
          "2017-12-22T23:25:00",
          "2017-12-22T23:26:00",
          "2017-12-22T23:27:00",
          "2017-12-22T23:28:00",
          "2017-12-22T23:29:00",
          "2017-12-22T23:30:00",
          "2017-12-22T23:31:00",
          "2017-12-22T23:32:00",
          "2017-12-22T23:33:00",
          "2017-12-22T23:34:00",
          "2017-12-22T23:35:00",
          "2017-12-22T23:36:00",
          "2017-12-22T23:37:00",
          "2017-12-22T23:38:00",
          "2017-12-22T23:39:00",
          "2017-12-22T23:40:00",
          "2017-12-22T23:41:00",
          "2017-12-22T23:42:00",
          "2017-12-22T23:43:00",
          "2017-12-22T23:44:00",
          "2017-12-22T23:45:00",
          "2017-12-22T23:46:00",
          "2017-12-22T23:47:00",
          "2017-12-22T23:48:00",
          "2017-12-22T23:49:00",
          "2017-12-22T23:50:00",
          "2017-12-22T23:51:00",
          "2017-12-22T23:52:00",
          "2017-12-22T23:53:00",
          "2017-12-22T23:54:00",
          "2017-12-22T23:55:00",
          "2017-12-22T23:56:00",
          "2017-12-22T23:57:00",
          "2017-12-22T23:58:00",
          "2017-12-22T23:59:00",
          "2017-12-23T00:00:00"
         ]
        }
       ],
       "layout": {
        "template": {
         "data": {
          "bar": [
           {
            "error_x": {
             "color": "#2a3f5f"
            },
            "error_y": {
             "color": "#2a3f5f"
            },
            "marker": {
             "line": {
              "color": "#E5ECF6",
              "width": 0.5
             }
            },
            "type": "bar"
           }
          ],
          "barpolar": [
           {
            "marker": {
             "line": {
              "color": "#E5ECF6",
              "width": 0.5
             }
            },
            "type": "barpolar"
           }
          ],
          "carpet": [
           {
            "aaxis": {
             "endlinecolor": "#2a3f5f",
             "gridcolor": "white",
             "linecolor": "white",
             "minorgridcolor": "white",
             "startlinecolor": "#2a3f5f"
            },
            "baxis": {
             "endlinecolor": "#2a3f5f",
             "gridcolor": "white",
             "linecolor": "white",
             "minorgridcolor": "white",
             "startlinecolor": "#2a3f5f"
            },
            "type": "carpet"
           }
          ],
          "choropleth": [
           {
            "colorbar": {
             "outlinewidth": 0,
             "ticks": ""
            },
            "type": "choropleth"
           }
          ],
          "contour": [
           {
            "colorbar": {
             "outlinewidth": 0,
             "ticks": ""
            },
            "colorscale": [
             [
              0,
              "#0d0887"
             ],
             [
              0.1111111111111111,
              "#46039f"
             ],
             [
              0.2222222222222222,
              "#7201a8"
             ],
             [
              0.3333333333333333,
              "#9c179e"
             ],
             [
              0.4444444444444444,
              "#bd3786"
             ],
             [
              0.5555555555555556,
              "#d8576b"
             ],
             [
              0.6666666666666666,
              "#ed7953"
             ],
             [
              0.7777777777777778,
              "#fb9f3a"
             ],
             [
              0.8888888888888888,
              "#fdca26"
             ],
             [
              1,
              "#f0f921"
             ]
            ],
            "type": "contour"
           }
          ],
          "contourcarpet": [
           {
            "colorbar": {
             "outlinewidth": 0,
             "ticks": ""
            },
            "type": "contourcarpet"
           }
          ],
          "heatmap": [
           {
            "colorbar": {
             "outlinewidth": 0,
             "ticks": ""
            },
            "colorscale": [
             [
              0,
              "#0d0887"
             ],
             [
              0.1111111111111111,
              "#46039f"
             ],
             [
              0.2222222222222222,
              "#7201a8"
             ],
             [
              0.3333333333333333,
              "#9c179e"
             ],
             [
              0.4444444444444444,
              "#bd3786"
             ],
             [
              0.5555555555555556,
              "#d8576b"
             ],
             [
              0.6666666666666666,
              "#ed7953"
             ],
             [
              0.7777777777777778,
              "#fb9f3a"
             ],
             [
              0.8888888888888888,
              "#fdca26"
             ],
             [
              1,
              "#f0f921"
             ]
            ],
            "type": "heatmap"
           }
          ],
          "heatmapgl": [
           {
            "colorbar": {
             "outlinewidth": 0,
             "ticks": ""
            },
            "colorscale": [
             [
              0,
              "#0d0887"
             ],
             [
              0.1111111111111111,
              "#46039f"
             ],
             [
              0.2222222222222222,
              "#7201a8"
             ],
             [
              0.3333333333333333,
              "#9c179e"
             ],
             [
              0.4444444444444444,
              "#bd3786"
             ],
             [
              0.5555555555555556,
              "#d8576b"
             ],
             [
              0.6666666666666666,
              "#ed7953"
             ],
             [
              0.7777777777777778,
              "#fb9f3a"
             ],
             [
              0.8888888888888888,
              "#fdca26"
             ],
             [
              1,
              "#f0f921"
             ]
            ],
            "type": "heatmapgl"
           }
          ],
          "histogram": [
           {
            "marker": {
             "colorbar": {
              "outlinewidth": 0,
              "ticks": ""
             }
            },
            "type": "histogram"
           }
          ],
          "histogram2d": [
           {
            "colorbar": {
             "outlinewidth": 0,
             "ticks": ""
            },
            "colorscale": [
             [
              0,
              "#0d0887"
             ],
             [
              0.1111111111111111,
              "#46039f"
             ],
             [
              0.2222222222222222,
              "#7201a8"
             ],
             [
              0.3333333333333333,
              "#9c179e"
             ],
             [
              0.4444444444444444,
              "#bd3786"
             ],
             [
              0.5555555555555556,
              "#d8576b"
             ],
             [
              0.6666666666666666,
              "#ed7953"
             ],
             [
              0.7777777777777778,
              "#fb9f3a"
             ],
             [
              0.8888888888888888,
              "#fdca26"
             ],
             [
              1,
              "#f0f921"
             ]
            ],
            "type": "histogram2d"
           }
          ],
          "histogram2dcontour": [
           {
            "colorbar": {
             "outlinewidth": 0,
             "ticks": ""
            },
            "colorscale": [
             [
              0,
              "#0d0887"
             ],
             [
              0.1111111111111111,
              "#46039f"
             ],
             [
              0.2222222222222222,
              "#7201a8"
             ],
             [
              0.3333333333333333,
              "#9c179e"
             ],
             [
              0.4444444444444444,
              "#bd3786"
             ],
             [
              0.5555555555555556,
              "#d8576b"
             ],
             [
              0.6666666666666666,
              "#ed7953"
             ],
             [
              0.7777777777777778,
              "#fb9f3a"
             ],
             [
              0.8888888888888888,
              "#fdca26"
             ],
             [
              1,
              "#f0f921"
             ]
            ],
            "type": "histogram2dcontour"
           }
          ],
          "mesh3d": [
           {
            "colorbar": {
             "outlinewidth": 0,
             "ticks": ""
            },
            "type": "mesh3d"
           }
          ],
          "parcoords": [
           {
            "line": {
             "colorbar": {
              "outlinewidth": 0,
              "ticks": ""
             }
            },
            "type": "parcoords"
           }
          ],
          "pie": [
           {
            "automargin": true,
            "type": "pie"
           }
          ],
          "scatter": [
           {
            "marker": {
             "colorbar": {
              "outlinewidth": 0,
              "ticks": ""
             }
            },
            "type": "scatter"
           }
          ],
          "scatter3d": [
           {
            "line": {
             "colorbar": {
              "outlinewidth": 0,
              "ticks": ""
             }
            },
            "marker": {
             "colorbar": {
              "outlinewidth": 0,
              "ticks": ""
             }
            },
            "type": "scatter3d"
           }
          ],
          "scattercarpet": [
           {
            "marker": {
             "colorbar": {
              "outlinewidth": 0,
              "ticks": ""
             }
            },
            "type": "scattercarpet"
           }
          ],
          "scattergeo": [
           {
            "marker": {
             "colorbar": {
              "outlinewidth": 0,
              "ticks": ""
             }
            },
            "type": "scattergeo"
           }
          ],
          "scattergl": [
           {
            "marker": {
             "colorbar": {
              "outlinewidth": 0,
              "ticks": ""
             }
            },
            "type": "scattergl"
           }
          ],
          "scattermapbox": [
           {
            "marker": {
             "colorbar": {
              "outlinewidth": 0,
              "ticks": ""
             }
            },
            "type": "scattermapbox"
           }
          ],
          "scatterpolar": [
           {
            "marker": {
             "colorbar": {
              "outlinewidth": 0,
              "ticks": ""
             }
            },
            "type": "scatterpolar"
           }
          ],
          "scatterpolargl": [
           {
            "marker": {
             "colorbar": {
              "outlinewidth": 0,
              "ticks": ""
             }
            },
            "type": "scatterpolargl"
           }
          ],
          "scatterternary": [
           {
            "marker": {
             "colorbar": {
              "outlinewidth": 0,
              "ticks": ""
             }
            },
            "type": "scatterternary"
           }
          ],
          "surface": [
           {
            "colorbar": {
             "outlinewidth": 0,
             "ticks": ""
            },
            "colorscale": [
             [
              0,
              "#0d0887"
             ],
             [
              0.1111111111111111,
              "#46039f"
             ],
             [
              0.2222222222222222,
              "#7201a8"
             ],
             [
              0.3333333333333333,
              "#9c179e"
             ],
             [
              0.4444444444444444,
              "#bd3786"
             ],
             [
              0.5555555555555556,
              "#d8576b"
             ],
             [
              0.6666666666666666,
              "#ed7953"
             ],
             [
              0.7777777777777778,
              "#fb9f3a"
             ],
             [
              0.8888888888888888,
              "#fdca26"
             ],
             [
              1,
              "#f0f921"
             ]
            ],
            "type": "surface"
           }
          ],
          "table": [
           {
            "cells": {
             "fill": {
              "color": "#EBF0F8"
             },
             "line": {
              "color": "white"
             }
            },
            "header": {
             "fill": {
              "color": "#C8D4E3"
             },
             "line": {
              "color": "white"
             }
            },
            "type": "table"
           }
          ]
         },
         "layout": {
          "annotationdefaults": {
           "arrowcolor": "#2a3f5f",
           "arrowhead": 0,
           "arrowwidth": 1
          },
          "coloraxis": {
           "colorbar": {
            "outlinewidth": 0,
            "ticks": ""
           }
          },
          "colorscale": {
           "diverging": [
            [
             0,
             "#8e0152"
            ],
            [
             0.1,
             "#c51b7d"
            ],
            [
             0.2,
             "#de77ae"
            ],
            [
             0.3,
             "#f1b6da"
            ],
            [
             0.4,
             "#fde0ef"
            ],
            [
             0.5,
             "#f7f7f7"
            ],
            [
             0.6,
             "#e6f5d0"
            ],
            [
             0.7,
             "#b8e186"
            ],
            [
             0.8,
             "#7fbc41"
            ],
            [
             0.9,
             "#4d9221"
            ],
            [
             1,
             "#276419"
            ]
           ],
           "sequential": [
            [
             0,
             "#0d0887"
            ],
            [
             0.1111111111111111,
             "#46039f"
            ],
            [
             0.2222222222222222,
             "#7201a8"
            ],
            [
             0.3333333333333333,
             "#9c179e"
            ],
            [
             0.4444444444444444,
             "#bd3786"
            ],
            [
             0.5555555555555556,
             "#d8576b"
            ],
            [
             0.6666666666666666,
             "#ed7953"
            ],
            [
             0.7777777777777778,
             "#fb9f3a"
            ],
            [
             0.8888888888888888,
             "#fdca26"
            ],
            [
             1,
             "#f0f921"
            ]
           ],
           "sequentialminus": [
            [
             0,
             "#0d0887"
            ],
            [
             0.1111111111111111,
             "#46039f"
            ],
            [
             0.2222222222222222,
             "#7201a8"
            ],
            [
             0.3333333333333333,
             "#9c179e"
            ],
            [
             0.4444444444444444,
             "#bd3786"
            ],
            [
             0.5555555555555556,
             "#d8576b"
            ],
            [
             0.6666666666666666,
             "#ed7953"
            ],
            [
             0.7777777777777778,
             "#fb9f3a"
            ],
            [
             0.8888888888888888,
             "#fdca26"
            ],
            [
             1,
             "#f0f921"
            ]
           ]
          },
          "colorway": [
           "#636efa",
           "#EF553B",
           "#00cc96",
           "#ab63fa",
           "#FFA15A",
           "#19d3f3",
           "#FF6692",
           "#B6E880",
           "#FF97FF",
           "#FECB52"
          ],
          "font": {
           "color": "#2a3f5f"
          },
          "geo": {
           "bgcolor": "white",
           "lakecolor": "white",
           "landcolor": "#E5ECF6",
           "showlakes": true,
           "showland": true,
           "subunitcolor": "white"
          },
          "hoverlabel": {
           "align": "left"
          },
          "hovermode": "closest",
          "mapbox": {
           "style": "light"
          },
          "paper_bgcolor": "white",
          "plot_bgcolor": "#E5ECF6",
          "polar": {
           "angularaxis": {
            "gridcolor": "white",
            "linecolor": "white",
            "ticks": ""
           },
           "bgcolor": "#E5ECF6",
           "radialaxis": {
            "gridcolor": "white",
            "linecolor": "white",
            "ticks": ""
           }
          },
          "scene": {
           "xaxis": {
            "backgroundcolor": "#E5ECF6",
            "gridcolor": "white",
            "gridwidth": 2,
            "linecolor": "white",
            "showbackground": true,
            "ticks": "",
            "zerolinecolor": "white"
           },
           "yaxis": {
            "backgroundcolor": "#E5ECF6",
            "gridcolor": "white",
            "gridwidth": 2,
            "linecolor": "white",
            "showbackground": true,
            "ticks": "",
            "zerolinecolor": "white"
           },
           "zaxis": {
            "backgroundcolor": "#E5ECF6",
            "gridcolor": "white",
            "gridwidth": 2,
            "linecolor": "white",
            "showbackground": true,
            "ticks": "",
            "zerolinecolor": "white"
           }
          },
          "shapedefaults": {
           "line": {
            "color": "#2a3f5f"
           }
          },
          "ternary": {
           "aaxis": {
            "gridcolor": "white",
            "linecolor": "white",
            "ticks": ""
           },
           "baxis": {
            "gridcolor": "white",
            "linecolor": "white",
            "ticks": ""
           },
           "bgcolor": "#E5ECF6",
           "caxis": {
            "gridcolor": "white",
            "linecolor": "white",
            "ticks": ""
           }
          },
          "title": {
           "x": 0.05
          },
          "xaxis": {
           "automargin": true,
           "gridcolor": "white",
           "linecolor": "white",
           "ticks": "",
           "title": {
            "standoff": 15
           },
           "zerolinecolor": "white",
           "zerolinewidth": 2
          },
          "yaxis": {
           "automargin": true,
           "gridcolor": "white",
           "linecolor": "white",
           "ticks": "",
           "title": {
            "standoff": 15
           },
           "zerolinecolor": "white",
           "zerolinewidth": 2
          }
         }
        }
       }
      },
      "text/html": [
       "<div>\n",
       "        \n",
       "        \n",
       "            <div id=\"73ce7801-99ad-4d14-af63-a971749bcf27\" class=\"plotly-graph-div\" style=\"height:525px; width:100%;\"></div>\n",
       "            <script type=\"text/javascript\">\n",
       "                require([\"plotly\"], function(Plotly) {\n",
       "                    window.PLOTLYENV=window.PLOTLYENV || {};\n",
       "                    \n",
       "                if (document.getElementById(\"73ce7801-99ad-4d14-af63-a971749bcf27\")) {\n",
       "                    Plotly.newPlot(\n",
       "                        '73ce7801-99ad-4d14-af63-a971749bcf27',\n",
       "                        [{\"close\": [null, null, null, null, 14250.01, 14280.0, 14318.23, 14327.0, 14283.0, 14300.0, 14299.0, 14290.0, 14300.0, 14208.89, 14299.99, 14281.0, 14330.0, 14330.0, 14383.85, 14350.79, 14348.89, 14350.2, 14380.5, 14401.67, 14499.33, 14550.0, 14550.0, 14550.17, 14480.02, 14427.95, 14499.88, 14500.0, 14500.0, 14551.99, 14485.08, 14547.0, 14552.0, 14582.63, 14610.85, 14655.65, 14666.0, 14639.0, 14670.0, 14669.0, 14680.0, 14680.0, 14698.99, 14699.99, 14780.0, 14780.0, 14802.76, 14820.1, 14780.1, 14704.02, 14700.13, 14717.85, 14799.5, 14830.0, 14839.76, 14847.0, 14800.0, 14700.0, 14726.68, 14599.11, 14540.0, 14563.05, 14599.99, 14600.0, 14676.0, 14601.0, 14540.0, 14644.0, 14665.74, 14570.1, 14556.7, 14594.97, 14570.0, 14650.0, 14637.22, 14690.0, 14749.88, 14716.93, 14749.0, 14641.78, 14624.99, 14617.87, 14450.0, 14329.98, 14187.57, 13976.61, 13839.41, 14018.0, 14221.66, 14300.0, 14001.72, 14001.72, 14231.78, 13990.0, 13830.03, 13765.38, 13767.01, 13734.45, 13767.01, 13696.79, 13631.92, 13767.01, 13800.03, 13798.97, 13597.96, 13654.36, 13791.21, 13803.97, 13786.05, 13848.94, 13941.75, 13941.74, 13941.75, 13888.2, 13976.61, 14009.79, 13999.98], \"high\": [null, null, null, null, 14250.01, 14342.52, 14342.52, 14342.52, 14342.52, 14300.0, 14300.0, 14300.0, 14300.0, 14299.99, 14335.0, 14332.87, 14330.0, 14347.05, 14383.85, 14423.13, 14380.4, 14398.92, 14423.13, 14422.88, 14499.33, 14550.0, 14560.0, 14575.0, 14575.0, 14480.0, 14500.0, 14500.0, 14538.4, 14552.0, 14549.0, 14548.84, 14553.4, 14582.64, 14619.1, 14655.65, 14666.0, 14692.29, 14689.98, 14670.0, 14680.0, 14680.0, 14700.03, 14700.0, 14780.0, 14780.0, 14802.76, 14835.0, 14835.0, 14780.1, 14750.0, 14780.1, 14799.5, 14834.99, 14839.76, 14847.0, 14864.0, 14800.0, 14787.0, 14726.68, 14635.0, 14602.12, 14635.0, 14635.0, 14699.97, 14699.96, 14602.85, 14644.0, 14726.0, 14741.46, 14652.56, 14652.51, 14653.96, 14681.32, 14690.0, 14705.75, 14749.9, 14750.0, 14786.77, 14749.0, 14660.01, 14714.1, 14617.87, 14450.0, 14329.98, 14200.0, 13999.99, 14127.39, 14221.71, 14318.55, 14329.98, 14001.72, 14231.79, 14231.76, 14009.99, 13850.11, 13917.89, 13767.01, 13767.01, 13767.01, 13696.79, 13767.01, 13900.0, 13852.05, 13830.04, 13671.29, 13800.08, 13820.0, 13872.31, 13848.94, 13941.75, 13941.75, 13941.75, 13976.61, 13976.61, 14011.55, 14009.79], \"low\": [null, null, null, null, 14199.0, 14199.02, 14242.63, 14263.4, 14282.0, 14282.0, 14250.94, 14262.98, 14275.0, 14208.89, 14204.88, 14236.12, 14260.03, 14300.03, 14300.04, 14348.88, 14330.95, 14330.95, 14350.49, 14400.0, 14400.1, 14479.2, 14517.57, 14482.48, 14480.02, 14300.0, 14406.79, 14400.01, 14500.0, 14500.0, 14421.57, 14446.09, 14499.0, 14505.02, 14560.67, 14605.36, 14638.1, 14639.0, 14599.2, 14629.42, 14670.76, 14673.7, 14676.52, 14694.81, 14699.58, 14714.4, 14750.62, 14800.0, 14695.51, 14695.52, 14695.51, 14700.13, 14739.35, 14799.1, 14807.17, 14816.41, 14768.07, 14695.51, 14632.58, 14590.0, 14523.48, 14523.6, 14536.08, 14553.83, 14568.76, 14600.0, 14540.0, 14530.0, 14557.16, 14570.1, 14556.7, 14550.0, 14570.0, 14550.0, 14592.03, 14629.81, 14700.0, 14700.49, 14649.98, 14609.0, 14570.01, 14575.62, 14450.0, 14329.98, 14187.57, 13976.61, 13768.78, 13799.77, 14062.28, 14177.01, 14001.72, 13920.0, 14000.91, 13990.0, 13830.03, 13734.45, 13735.0, 13734.45, 13677.0, 13660.0, 13597.96, 13599.99, 13665.54, 13614.42, 13597.96, 13564.05, 13621.03, 13600.0, 13716.01, 13564.06, 13758.09, 13837.97, 13838.08, 13831.06, 13820.03, 13941.66, 13825.09], \"open\": [null, null, null, null, 14199.0, 14250.01, 14280.0, 14318.23, 14327.0, 14300.0, 14300.0, 14299.0, 14290.0, 14275.0, 14205.0, 14331.84, 14281.0, 14330.0, 14330.95, 14387.01, 14350.4, 14350.0, 14350.49, 14422.0, 14401.67, 14499.98, 14550.0, 14517.58, 14550.17, 14480.0, 14428.7, 14499.99, 14500.0, 14538.34, 14517.33, 14485.08, 14541.0, 14552.0, 14582.63, 14613.41, 14655.65, 14666.0, 14637.0, 14670.0, 14677.98, 14680.0, 14680.0, 14698.99, 14699.99, 14779.0, 14780.0, 14800.04, 14835.0, 14755.85, 14695.52, 14700.13, 14764.89, 14799.5, 14830.0, 14839.76, 14847.0, 14800.0, 14692.31, 14726.66, 14599.98, 14540.0, 14563.0, 14580.17, 14612.0, 14678.63, 14600.0, 14540.0, 14557.16, 14693.89, 14574.51, 14652.51, 14620.11, 14570.0, 14649.99, 14637.22, 14705.7, 14700.49, 14748.95, 14749.0, 14635.0, 14624.99, 14617.87, 14450.0, 14329.98, 14194.9, 13976.61, 13899.99, 14062.28, 14177.01, 14300.0, 14001.72, 14000.91, 14230.0, 13990.0, 13827.0, 13758.79, 13767.0, 13731.0, 13758.92, 13695.31, 13631.92, 13767.01, 13800.09, 13798.97, 13605.43, 13654.35, 13761.14, 13803.97, 13785.14, 13758.09, 13941.75, 13920.0, 13941.73, 13888.2, 13976.6, 13980.0], \"type\": \"candlestick\", \"x\": [\"2017-12-22T22:00:00\", \"2017-12-22T22:01:00\", \"2017-12-22T22:02:00\", \"2017-12-22T22:03:00\", \"2017-12-22T22:04:00\", \"2017-12-22T22:05:00\", \"2017-12-22T22:06:00\", \"2017-12-22T22:07:00\", \"2017-12-22T22:08:00\", \"2017-12-22T22:09:00\", \"2017-12-22T22:10:00\", \"2017-12-22T22:11:00\", \"2017-12-22T22:12:00\", \"2017-12-22T22:13:00\", \"2017-12-22T22:14:00\", \"2017-12-22T22:15:00\", \"2017-12-22T22:16:00\", \"2017-12-22T22:17:00\", \"2017-12-22T22:18:00\", \"2017-12-22T22:19:00\", \"2017-12-22T22:20:00\", \"2017-12-22T22:21:00\", \"2017-12-22T22:22:00\", \"2017-12-22T22:23:00\", \"2017-12-22T22:24:00\", \"2017-12-22T22:25:00\", \"2017-12-22T22:26:00\", \"2017-12-22T22:27:00\", \"2017-12-22T22:28:00\", \"2017-12-22T22:29:00\", \"2017-12-22T22:30:00\", \"2017-12-22T22:31:00\", \"2017-12-22T22:32:00\", \"2017-12-22T22:33:00\", \"2017-12-22T22:34:00\", \"2017-12-22T22:35:00\", \"2017-12-22T22:36:00\", \"2017-12-22T22:37:00\", \"2017-12-22T22:38:00\", \"2017-12-22T22:39:00\", \"2017-12-22T22:40:00\", \"2017-12-22T22:41:00\", \"2017-12-22T22:42:00\", \"2017-12-22T22:43:00\", \"2017-12-22T22:44:00\", \"2017-12-22T22:45:00\", \"2017-12-22T22:46:00\", \"2017-12-22T22:47:00\", \"2017-12-22T22:48:00\", \"2017-12-22T22:49:00\", \"2017-12-22T22:50:00\", \"2017-12-22T22:51:00\", \"2017-12-22T22:52:00\", \"2017-12-22T22:53:00\", \"2017-12-22T22:54:00\", \"2017-12-22T22:55:00\", \"2017-12-22T22:56:00\", \"2017-12-22T22:57:00\", \"2017-12-22T22:58:00\", \"2017-12-22T22:59:00\", \"2017-12-22T23:00:00\", \"2017-12-22T23:01:00\", \"2017-12-22T23:02:00\", \"2017-12-22T23:03:00\", \"2017-12-22T23:04:00\", \"2017-12-22T23:05:00\", \"2017-12-22T23:06:00\", \"2017-12-22T23:07:00\", \"2017-12-22T23:08:00\", \"2017-12-22T23:09:00\", \"2017-12-22T23:10:00\", \"2017-12-22T23:11:00\", \"2017-12-22T23:12:00\", \"2017-12-22T23:13:00\", \"2017-12-22T23:14:00\", \"2017-12-22T23:15:00\", \"2017-12-22T23:16:00\", \"2017-12-22T23:17:00\", \"2017-12-22T23:18:00\", \"2017-12-22T23:19:00\", \"2017-12-22T23:20:00\", \"2017-12-22T23:21:00\", \"2017-12-22T23:22:00\", \"2017-12-22T23:23:00\", \"2017-12-22T23:24:00\", \"2017-12-22T23:25:00\", \"2017-12-22T23:26:00\", \"2017-12-22T23:27:00\", \"2017-12-22T23:28:00\", \"2017-12-22T23:29:00\", \"2017-12-22T23:30:00\", \"2017-12-22T23:31:00\", \"2017-12-22T23:32:00\", \"2017-12-22T23:33:00\", \"2017-12-22T23:34:00\", \"2017-12-22T23:35:00\", \"2017-12-22T23:36:00\", \"2017-12-22T23:37:00\", \"2017-12-22T23:38:00\", \"2017-12-22T23:39:00\", \"2017-12-22T23:40:00\", \"2017-12-22T23:41:00\", \"2017-12-22T23:42:00\", \"2017-12-22T23:43:00\", \"2017-12-22T23:44:00\", \"2017-12-22T23:45:00\", \"2017-12-22T23:46:00\", \"2017-12-22T23:47:00\", \"2017-12-22T23:48:00\", \"2017-12-22T23:49:00\", \"2017-12-22T23:50:00\", \"2017-12-22T23:51:00\", \"2017-12-22T23:52:00\", \"2017-12-22T23:53:00\", \"2017-12-22T23:54:00\", \"2017-12-22T23:55:00\", \"2017-12-22T23:56:00\", \"2017-12-22T23:57:00\", \"2017-12-22T23:58:00\", \"2017-12-22T23:59:00\", \"2017-12-23T00:00:00\"]}],\n",
       "                        {\"template\": {\"data\": {\"bar\": [{\"error_x\": {\"color\": \"#2a3f5f\"}, \"error_y\": {\"color\": \"#2a3f5f\"}, \"marker\": {\"line\": {\"color\": \"#E5ECF6\", \"width\": 0.5}}, \"type\": \"bar\"}], \"barpolar\": [{\"marker\": {\"line\": {\"color\": \"#E5ECF6\", \"width\": 0.5}}, \"type\": \"barpolar\"}], \"carpet\": [{\"aaxis\": {\"endlinecolor\": \"#2a3f5f\", \"gridcolor\": \"white\", \"linecolor\": \"white\", \"minorgridcolor\": \"white\", \"startlinecolor\": \"#2a3f5f\"}, \"baxis\": {\"endlinecolor\": \"#2a3f5f\", \"gridcolor\": \"white\", \"linecolor\": \"white\", \"minorgridcolor\": \"white\", \"startlinecolor\": \"#2a3f5f\"}, \"type\": \"carpet\"}], \"choropleth\": [{\"colorbar\": {\"outlinewidth\": 0, \"ticks\": \"\"}, \"type\": \"choropleth\"}], \"contour\": [{\"colorbar\": {\"outlinewidth\": 0, \"ticks\": \"\"}, \"colorscale\": [[0.0, \"#0d0887\"], [0.1111111111111111, \"#46039f\"], [0.2222222222222222, \"#7201a8\"], [0.3333333333333333, \"#9c179e\"], [0.4444444444444444, \"#bd3786\"], [0.5555555555555556, \"#d8576b\"], [0.6666666666666666, \"#ed7953\"], [0.7777777777777778, \"#fb9f3a\"], [0.8888888888888888, \"#fdca26\"], [1.0, \"#f0f921\"]], \"type\": \"contour\"}], \"contourcarpet\": [{\"colorbar\": {\"outlinewidth\": 0, \"ticks\": \"\"}, \"type\": \"contourcarpet\"}], \"heatmap\": [{\"colorbar\": {\"outlinewidth\": 0, \"ticks\": \"\"}, \"colorscale\": [[0.0, \"#0d0887\"], [0.1111111111111111, \"#46039f\"], [0.2222222222222222, \"#7201a8\"], [0.3333333333333333, \"#9c179e\"], [0.4444444444444444, \"#bd3786\"], [0.5555555555555556, \"#d8576b\"], [0.6666666666666666, \"#ed7953\"], [0.7777777777777778, \"#fb9f3a\"], [0.8888888888888888, \"#fdca26\"], [1.0, \"#f0f921\"]], \"type\": \"heatmap\"}], \"heatmapgl\": [{\"colorbar\": {\"outlinewidth\": 0, \"ticks\": \"\"}, \"colorscale\": [[0.0, \"#0d0887\"], [0.1111111111111111, \"#46039f\"], [0.2222222222222222, \"#7201a8\"], [0.3333333333333333, \"#9c179e\"], [0.4444444444444444, \"#bd3786\"], [0.5555555555555556, \"#d8576b\"], [0.6666666666666666, \"#ed7953\"], [0.7777777777777778, \"#fb9f3a\"], [0.8888888888888888, \"#fdca26\"], [1.0, \"#f0f921\"]], \"type\": \"heatmapgl\"}], \"histogram\": [{\"marker\": {\"colorbar\": {\"outlinewidth\": 0, \"ticks\": \"\"}}, \"type\": \"histogram\"}], \"histogram2d\": [{\"colorbar\": {\"outlinewidth\": 0, \"ticks\": \"\"}, \"colorscale\": [[0.0, \"#0d0887\"], [0.1111111111111111, \"#46039f\"], [0.2222222222222222, \"#7201a8\"], [0.3333333333333333, \"#9c179e\"], [0.4444444444444444, \"#bd3786\"], [0.5555555555555556, \"#d8576b\"], [0.6666666666666666, \"#ed7953\"], [0.7777777777777778, \"#fb9f3a\"], [0.8888888888888888, \"#fdca26\"], [1.0, \"#f0f921\"]], \"type\": \"histogram2d\"}], \"histogram2dcontour\": [{\"colorbar\": {\"outlinewidth\": 0, \"ticks\": \"\"}, \"colorscale\": [[0.0, \"#0d0887\"], [0.1111111111111111, \"#46039f\"], [0.2222222222222222, \"#7201a8\"], [0.3333333333333333, \"#9c179e\"], [0.4444444444444444, \"#bd3786\"], [0.5555555555555556, \"#d8576b\"], [0.6666666666666666, \"#ed7953\"], [0.7777777777777778, \"#fb9f3a\"], [0.8888888888888888, \"#fdca26\"], [1.0, \"#f0f921\"]], \"type\": \"histogram2dcontour\"}], \"mesh3d\": [{\"colorbar\": {\"outlinewidth\": 0, \"ticks\": \"\"}, \"type\": \"mesh3d\"}], \"parcoords\": [{\"line\": {\"colorbar\": {\"outlinewidth\": 0, \"ticks\": \"\"}}, \"type\": \"parcoords\"}], \"pie\": [{\"automargin\": true, \"type\": \"pie\"}], \"scatter\": [{\"marker\": {\"colorbar\": {\"outlinewidth\": 0, \"ticks\": \"\"}}, \"type\": \"scatter\"}], \"scatter3d\": [{\"line\": {\"colorbar\": {\"outlinewidth\": 0, \"ticks\": \"\"}}, \"marker\": {\"colorbar\": {\"outlinewidth\": 0, \"ticks\": \"\"}}, \"type\": \"scatter3d\"}], \"scattercarpet\": [{\"marker\": {\"colorbar\": {\"outlinewidth\": 0, \"ticks\": \"\"}}, \"type\": \"scattercarpet\"}], \"scattergeo\": [{\"marker\": {\"colorbar\": {\"outlinewidth\": 0, \"ticks\": \"\"}}, \"type\": \"scattergeo\"}], \"scattergl\": [{\"marker\": {\"colorbar\": {\"outlinewidth\": 0, \"ticks\": \"\"}}, \"type\": \"scattergl\"}], \"scattermapbox\": [{\"marker\": {\"colorbar\": {\"outlinewidth\": 0, \"ticks\": \"\"}}, \"type\": \"scattermapbox\"}], \"scatterpolar\": [{\"marker\": {\"colorbar\": {\"outlinewidth\": 0, \"ticks\": \"\"}}, \"type\": \"scatterpolar\"}], \"scatterpolargl\": [{\"marker\": {\"colorbar\": {\"outlinewidth\": 0, \"ticks\": \"\"}}, \"type\": \"scatterpolargl\"}], \"scatterternary\": [{\"marker\": {\"colorbar\": {\"outlinewidth\": 0, \"ticks\": \"\"}}, \"type\": \"scatterternary\"}], \"surface\": [{\"colorbar\": {\"outlinewidth\": 0, \"ticks\": \"\"}, \"colorscale\": [[0.0, \"#0d0887\"], [0.1111111111111111, \"#46039f\"], [0.2222222222222222, \"#7201a8\"], [0.3333333333333333, \"#9c179e\"], [0.4444444444444444, \"#bd3786\"], [0.5555555555555556, \"#d8576b\"], [0.6666666666666666, \"#ed7953\"], [0.7777777777777778, \"#fb9f3a\"], [0.8888888888888888, \"#fdca26\"], [1.0, \"#f0f921\"]], \"type\": \"surface\"}], \"table\": [{\"cells\": {\"fill\": {\"color\": \"#EBF0F8\"}, \"line\": {\"color\": \"white\"}}, \"header\": {\"fill\": {\"color\": \"#C8D4E3\"}, \"line\": {\"color\": \"white\"}}, \"type\": \"table\"}]}, \"layout\": {\"annotationdefaults\": {\"arrowcolor\": \"#2a3f5f\", \"arrowhead\": 0, \"arrowwidth\": 1}, \"coloraxis\": {\"colorbar\": {\"outlinewidth\": 0, \"ticks\": \"\"}}, \"colorscale\": {\"diverging\": [[0, \"#8e0152\"], [0.1, \"#c51b7d\"], [0.2, \"#de77ae\"], [0.3, \"#f1b6da\"], [0.4, \"#fde0ef\"], [0.5, \"#f7f7f7\"], [0.6, \"#e6f5d0\"], [0.7, \"#b8e186\"], [0.8, \"#7fbc41\"], [0.9, \"#4d9221\"], [1, \"#276419\"]], \"sequential\": [[0.0, \"#0d0887\"], [0.1111111111111111, \"#46039f\"], [0.2222222222222222, \"#7201a8\"], [0.3333333333333333, \"#9c179e\"], [0.4444444444444444, \"#bd3786\"], [0.5555555555555556, \"#d8576b\"], [0.6666666666666666, \"#ed7953\"], [0.7777777777777778, \"#fb9f3a\"], [0.8888888888888888, \"#fdca26\"], [1.0, \"#f0f921\"]], \"sequentialminus\": [[0.0, \"#0d0887\"], [0.1111111111111111, \"#46039f\"], [0.2222222222222222, \"#7201a8\"], [0.3333333333333333, \"#9c179e\"], [0.4444444444444444, \"#bd3786\"], [0.5555555555555556, \"#d8576b\"], [0.6666666666666666, \"#ed7953\"], [0.7777777777777778, \"#fb9f3a\"], [0.8888888888888888, \"#fdca26\"], [1.0, \"#f0f921\"]]}, \"colorway\": [\"#636efa\", \"#EF553B\", \"#00cc96\", \"#ab63fa\", \"#FFA15A\", \"#19d3f3\", \"#FF6692\", \"#B6E880\", \"#FF97FF\", \"#FECB52\"], \"font\": {\"color\": \"#2a3f5f\"}, \"geo\": {\"bgcolor\": \"white\", \"lakecolor\": \"white\", \"landcolor\": \"#E5ECF6\", \"showlakes\": true, \"showland\": true, \"subunitcolor\": \"white\"}, \"hoverlabel\": {\"align\": \"left\"}, \"hovermode\": \"closest\", \"mapbox\": {\"style\": \"light\"}, \"paper_bgcolor\": \"white\", \"plot_bgcolor\": \"#E5ECF6\", \"polar\": {\"angularaxis\": {\"gridcolor\": \"white\", \"linecolor\": \"white\", \"ticks\": \"\"}, \"bgcolor\": \"#E5ECF6\", \"radialaxis\": {\"gridcolor\": \"white\", \"linecolor\": \"white\", \"ticks\": \"\"}}, \"scene\": {\"xaxis\": {\"backgroundcolor\": \"#E5ECF6\", \"gridcolor\": \"white\", \"gridwidth\": 2, \"linecolor\": \"white\", \"showbackground\": true, \"ticks\": \"\", \"zerolinecolor\": \"white\"}, \"yaxis\": {\"backgroundcolor\": \"#E5ECF6\", \"gridcolor\": \"white\", \"gridwidth\": 2, \"linecolor\": \"white\", \"showbackground\": true, \"ticks\": \"\", \"zerolinecolor\": \"white\"}, \"zaxis\": {\"backgroundcolor\": \"#E5ECF6\", \"gridcolor\": \"white\", \"gridwidth\": 2, \"linecolor\": \"white\", \"showbackground\": true, \"ticks\": \"\", \"zerolinecolor\": \"white\"}}, \"shapedefaults\": {\"line\": {\"color\": \"#2a3f5f\"}}, \"ternary\": {\"aaxis\": {\"gridcolor\": \"white\", \"linecolor\": \"white\", \"ticks\": \"\"}, \"baxis\": {\"gridcolor\": \"white\", \"linecolor\": \"white\", \"ticks\": \"\"}, \"bgcolor\": \"#E5ECF6\", \"caxis\": {\"gridcolor\": \"white\", \"linecolor\": \"white\", \"ticks\": \"\"}}, \"title\": {\"x\": 0.05}, \"xaxis\": {\"automargin\": true, \"gridcolor\": \"white\", \"linecolor\": \"white\", \"ticks\": \"\", \"title\": {\"standoff\": 15}, \"zerolinecolor\": \"white\", \"zerolinewidth\": 2}, \"yaxis\": {\"automargin\": true, \"gridcolor\": \"white\", \"linecolor\": \"white\", \"ticks\": \"\", \"title\": {\"standoff\": 15}, \"zerolinecolor\": \"white\", \"zerolinewidth\": 2}}}},\n",
       "                        {\"responsive\": true}\n",
       "                    ).then(function(){\n",
       "                            \n",
       "var gd = document.getElementById('73ce7801-99ad-4d14-af63-a971749bcf27');\n",
       "var x = new MutationObserver(function (mutations, observer) {{\n",
       "        var display = window.getComputedStyle(gd).display;\n",
       "        if (!display || display === 'none') {{\n",
       "            console.log([gd, 'removed!']);\n",
       "            Plotly.purge(gd);\n",
       "            observer.disconnect();\n",
       "        }}\n",
       "}});\n",
       "\n",
       "// Listen for the removal of the full notebook cells\n",
       "var notebookContainer = gd.closest('#notebook-container');\n",
       "if (notebookContainer) {{\n",
       "    x.observe(notebookContainer, {childList: true});\n",
       "}}\n",
       "\n",
       "// Listen for the clearing of the current output cell\n",
       "var outputEl = gd.closest('.output');\n",
       "if (outputEl) {{\n",
       "    x.observe(outputEl, {childList: true});\n",
       "}}\n",
       "\n",
       "                        })\n",
       "                };\n",
       "                });\n",
       "            </script>\n",
       "        </div>"
      ]
     },
     "metadata": {},
     "output_type": "display_data"
    }
   ],
   "source": [
    "import plotly.graph_objects as go\n",
    "\n",
    "sample = ohlc_data.loc[pd.date_range(start = \"2017-12-22 22:00\", end = \"2017-12-23 00:00\", freq=\"min\")]\n",
    "\n",
    "fig = go.Figure(data=[go.Candlestick(x=sample.index,\n",
    "                open=sample.open,\n",
    "                high=sample.high,\n",
    "                low=sample.low,\n",
    "                close=sample.close)])\n",
    "\n",
    "fig.show()"
   ]
  },
  {
   "cell_type": "code",
   "execution_count": null,
   "metadata": {},
   "outputs": [],
   "source": []
  }
 ],
 "metadata": {
  "kernelspec": {
   "display_name": "Python 3",
   "language": "python",
   "name": "python3"
  },
  "language_info": {
   "codemirror_mode": {
    "name": "ipython",
    "version": 3
   },
   "file_extension": ".py",
   "mimetype": "text/x-python",
   "name": "python",
   "nbconvert_exporter": "python",
   "pygments_lexer": "ipython3",
   "version": "3.7.6"
  }
 },
 "nbformat": 4,
 "nbformat_minor": 2
}
