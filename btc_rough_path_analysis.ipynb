{
 "cells": [
  {
   "cell_type": "markdown",
   "metadata": {},
   "source": [
    "# Rough Paths - From Quantstart \n",
    "\n",
    "* https://www.quantstart.com/articles/rough-path-theory-and-signatures-applied-to-quantitative-finance-part-1/\n",
    "    \n",
    "*The article is by Imanol Pérez, a PhD researcher in Mathematics at Oxford University*"
   ]
  },
  {
   "cell_type": "markdown",
   "metadata": {},
   "source": [
    "**Additional Links:**\n",
    "* [A Primer on the Signature Method in Machine\n",
    "Learning](https://arxiv.org/pdf/1603.03788.pdf)\n",
    "* [Practical Example](https://towardsdatascience.com/predict-bitcoin-prices-by-using-signature-time-series-modelling-cf3100a882cc)"
   ]
  },
  {
   "cell_type": "markdown",
   "metadata": {},
   "source": [
    "Below is some analysis of Bitcoin using this rough path signature approach"
   ]
  },
  {
   "cell_type": "code",
   "execution_count": 77,
   "metadata": {},
   "outputs": [],
   "source": [
    "import os\n",
    "import numpy as np\n",
    "import pandas as pd\n",
    "import numba as nb\n",
    "\n",
    "from scipy import stats\n",
    "import seaborn as sns\n",
    "import matplotlib.pyplot as plt\n",
    "\n",
    "from iisignature import *\n",
    "from sklearn import linear_model\n",
    "import numbers"
   ]
  },
  {
   "cell_type": "code",
   "execution_count": 2,
   "metadata": {},
   "outputs": [],
   "source": [
    "import requests\n",
    "encoding = 'utf-8'"
   ]
  },
  {
   "cell_type": "code",
   "execution_count": 23,
   "metadata": {},
   "outputs": [],
   "source": [
    "%matplotlib inline\n",
    "sns.set()"
   ]
  },
  {
   "cell_type": "markdown",
   "metadata": {},
   "source": [
    "## Define All Classes and Functions"
   ]
  },
  {
   "cell_type": "markdown",
   "metadata": {},
   "source": [
    "**From Part 1**"
   ]
  },
  {
   "cell_type": "code",
   "execution_count": 100,
   "metadata": {},
   "outputs": [],
   "source": [
    "import matplotlib.pyplot as plt\n",
    "import matplotlib.dates as mdates\n",
    "import matplotlib.patches as patches\n",
    "\n",
    "def leadlag(X):\n",
    "    '''\n",
    "    Returns lead-lag-transformed stream of X\n",
    "\n",
    "    Arguments:\n",
    "        X: list, whose elements are tuples of the form\n",
    "        (time, value).\n",
    "\n",
    "    Returns:\n",
    "        list of points on the plane, the lead-lag\n",
    "        transformed stream of X\n",
    "    '''\n",
    "\n",
    "    l=[]\n",
    "\n",
    "    for j in range(2*(len(X))-1):\n",
    "        i1=j//2\n",
    "        i2=j//2\n",
    "        if j%2!=0:\n",
    "            i1+=1\n",
    "        l.append((X[i1][1], X[i2][1]))\n",
    "\n",
    "    return l\n",
    "\n",
    "def plotLeadLag(X, diagonal=True):\n",
    "    '''\n",
    "    Plots the lead-laged transformed path X. If diagonal\n",
    "    is True, a line joining the start and ending points\n",
    "    is displayed.\n",
    "\n",
    "    Arguments:\n",
    "        X: list, whose elements are tuples of the form\n",
    "        (X^lead, X^lag) diagonal: boolean, default is\n",
    "        True. If True, a line joining the start and\n",
    "        ending points is displayed.\n",
    "    '''\n",
    "    for i in range(len(X)-1):\n",
    "        plt.plot([X[i][1], X[i+1][1]], [X[i][0], X[i+1][0]],\n",
    "                    color='k', linestyle='-', linewidth=2)\n",
    "\n",
    "\n",
    "    # Show the diagonal, if diagonal is true\n",
    "    if diagonal:\n",
    "        plt.plot([min(min([p[0] for p in X]), min([p[1]\n",
    "                for p in X])), max(max([p[0] for p in X]),\n",
    "                max([p[1] for p in X]))], [min(min([p[0]\n",
    "                for p in X]), min([p[1] for p in X])),\n",
    "                max(max([p[0] for p in X]), max([p[1] for\n",
    "                p in X]))], color='#BDBDBD', linestyle='-',\n",
    "                linewidth=1)\n",
    "\n",
    "    axes=plt.gca()\n",
    "    axes.set_xlim([min([p[1] for p in X])-1, max([p[1] for\n",
    "                  p in X])+1])\n",
    "    axes.set_ylim([min([p[0] for p in X])-1, max([p[0] for\n",
    "                  p in X])+1])\n",
    "    axes.get_yaxis().get_major_formatter().set_useOffset(False)\n",
    "    axes.get_xaxis().get_major_formatter().set_useOffset(False)\n",
    "    axes.set_aspect('equal', 'datalim')\n",
    "    plt.show()\n",
    "\n",
    "\n",
    "def timejoined(X):\n",
    "    '''\n",
    "    Returns time-joined transformation of the stream of\n",
    "    data X\n",
    "\n",
    "    Arguments:\n",
    "        X: list, whose elements are tuples of the form\n",
    "        (time, value).\n",
    "\n",
    "    Returns:\n",
    "        list of points on the plane, the time-joined\n",
    "        transformed stream of X\n",
    "    '''\n",
    "    X.append(X[-1])\n",
    "    l=[]\n",
    "\n",
    "    for j in range(2*(len(X))+1+2):\n",
    "        if j==0:\n",
    "            l.append((X[j][0], 0))\n",
    "            continue\n",
    "        for i in range(len(X)-1):\n",
    "            if j==2*i+1:\n",
    "                l.append((X[i][0], X[i][1]))\n",
    "                break\n",
    "            if j==2*i+2:\n",
    "                l.append((X[i+1][0], X[i][1]))\n",
    "                break\n",
    "    return l\n",
    "\n",
    "def plottimejoined(X):\n",
    "    '''\n",
    "    Plots the time-joined transfomed path X.\n",
    "\n",
    "    Arguments:\n",
    "        X: list, whose elements are tuples of the form (t, X)\n",
    "    '''\n",
    "\n",
    "    for i in range(len(X)-1):\n",
    "        plt.plot([X[i][0], X[i+1][0]], [X[i][1], X[i+1][1]],\n",
    "                color='k', linestyle='-', linewidth=2)\n",
    "\n",
    "    axes=plt.gca()\n",
    "    axes.set_xlim([min([p[0] for p in X]), max([p[0] for p\n",
    "                  in X])+1])\n",
    "    axes.set_ylim([min([p[1] for p in X]), max([p[1] for p\n",
    "                  in X])+1])\n",
    "    axes.get_yaxis().get_major_formatter().set_useOffset(False)\n",
    "    axes.get_xaxis().get_major_formatter().set_useOffset(False)\n",
    "    axes.set_aspect('equal', 'datalim')\n",
    "    plt.show()"
   ]
  },
  {
   "cell_type": "markdown",
   "metadata": {},
   "source": [
    "**From Part 2**"
   ]
  },
  {
   "cell_type": "code",
   "execution_count": 78,
   "metadata": {},
   "outputs": [],
   "source": [
    "class SigLearn:\n",
    "\n",
    "    def __init__(self, order=2, alpha=0.1):\n",
    "        if not isinstance(order, numbers.Integral) or order<1:\n",
    "            raise NameError('The order must be a positive integer.')\n",
    "        if not isinstance(alpha, numbers.Real) or alpha<=0.0:\n",
    "            raise NameError('Alpha must be a positive real.')\n",
    "        self.order=int(order)\n",
    "        self.reg=None\n",
    "        self.alpha=alpha\n",
    "\n",
    "    def train(self, x, y):\n",
    "        '''\n",
    "        Trains the model using signatures.\n",
    "        \n",
    "        x: list of inputs, where each element of\n",
    "            the list is a list of tuples.\n",
    "        y: list of outputs.\n",
    "        '''\n",
    "\n",
    "        # We check that x and y have appropriate types\n",
    "        if x is None or y is None:\n",
    "            return\n",
    "        if not (type(x) is list or type(x) is tuple) or not (type(y) is list or type(y) is tuple):\n",
    "            raise NameError('Input and output must be lists or tuples.')\n",
    "        if len(x)!=len(y):\n",
    "            raise NameError('The number of inputs and the number of outputs must coincide.')\n",
    "        ###\n",
    "        \n",
    "        X=[list(sig(np.array(stream), self.order)) for stream in x]\n",
    "        self.reg = linear_model.Lasso(alpha = self.alpha)\n",
    "        self.reg.fit(X, y)\n",
    "\n",
    "    def predict(self, x):\n",
    "        '''\n",
    "        \n",
    "        Predicts the outputs of the inputs x using the the\n",
    "        pre-trained model.\n",
    "        \n",
    "        x: list of inputs, where each element of\n",
    "            the list is a list of tuples.\n",
    "\n",
    "        Returns:\n",
    "\n",
    "        list of predicted outputs.\n",
    "        \n",
    "        '''\n",
    "        if self.reg is None:\n",
    "            raise NameError('The model is not trained.')\n",
    "\n",
    "        X=[list(sig(np.array(stream), self.order)) for stream in x]\n",
    " \n",
    "        return self.reg.predict(X)"
   ]
  },
  {
   "cell_type": "code",
   "execution_count": 7,
   "metadata": {},
   "outputs": [],
   "source": [
    "def accuracy(predictions, y):\n",
    "    p=0\n",
    "    for i in range(len(y)):\n",
    "        if round(predictions[i])==y[i]:\n",
    "            p+=1\n",
    "\n",
    "    return p/float(len(y))"
   ]
  },
  {
   "cell_type": "code",
   "execution_count": null,
   "metadata": {},
   "outputs": [],
   "source": []
  },
  {
   "cell_type": "markdown",
   "metadata": {},
   "source": [
    "## Test Function With Digits Example"
   ]
  },
  {
   "cell_type": "code",
   "execution_count": 4,
   "metadata": {},
   "outputs": [],
   "source": [
    "class Digit:\n",
    "    def __init__(self, points, digit):\n",
    "        self.points=points\n",
    "        self.digit=digit\n",
    "\n",
    "def loadDigits(path):\n",
    "    data = requests.get(path).content.decode(encoding)\n",
    "    # data = http.request('GET', path)\n",
    "    # data = BeautifulSoup(data.data.decode('utf-8'))\n",
    "    digits=[]\n",
    "    # print(data)\n",
    "    for line in data.splitlines():\n",
    "        # print(line)\n",
    "        digitList= line.replace(\",\", \" \").replace(\"\\n\", \"\").split()\n",
    "        number=float(digitList[16])\n",
    "        points=np.array([[float(digitList[i]), float(digitList[i+1])]\n",
    "                        for i in range(0,len(digitList)-1, 2)])\n",
    "        digit=Digit(points, number)\n",
    "        digits.append(digit)\n",
    "    \n",
    "    return digits\n",
    "    # return data\n",
    "\n",
    "trainingPath=\"https://archive.ics.uci.edu/ml/machine-learning-databases/pendigits/pendigits.tra\"\n",
    "trainingSet=loadDigits(trainingPath)\n",
    "inputs=[digit.points for digit in trainingSet]\n",
    "outputs=[digit.digit for digit in trainingSet]"
   ]
  },
  {
   "cell_type": "code",
   "execution_count": 17,
   "metadata": {},
   "outputs": [
    {
     "name": "stderr",
     "output_type": "stream",
     "text": [
      "/Users/reubenthomaskade/anaconda3/lib/python3.7/site-packages/sklearn/linear_model/coordinate_descent.py:492: ConvergenceWarning: Objective did not converge. You might want to increase the number of iterations. Fitting data with very small alpha may cause precision problems.\n",
      "  ConvergenceWarning)\n"
     ]
    }
   ],
   "source": [
    "model=SigLearn(order=10, alpha = 0.1)\n",
    "model.train(inputs, outputs)"
   ]
  },
  {
   "cell_type": "code",
   "execution_count": 10,
   "metadata": {},
   "outputs": [],
   "source": [
    "testingPath=\"https://archive.ics.uci.edu/ml/machine-learning-databases/pendigits/pendigits.tes\"\n",
    "testingSet=loadDigits(testingPath)\n",
    "\n",
    "testingInputs=[digit.points for digit in testingSet]\n",
    "testingOutputs=[digit.digit for digit in testingSet]\n",
    "\n",
    "predictions=model.predict(testingInputs)"
   ]
  },
  {
   "cell_type": "code",
   "execution_count": 19,
   "metadata": {},
   "outputs": [
    {
     "data": {
      "text/plain": [
       "0.548885077186964"
      ]
     },
     "execution_count": 19,
     "metadata": {},
     "output_type": "execute_result"
    }
   ],
   "source": [
    "accuracy(predictions, testingOutputs)"
   ]
  },
  {
   "cell_type": "markdown",
   "metadata": {},
   "source": [
    "## Apply this to bitcoin data"
   ]
  },
  {
   "cell_type": "markdown",
   "metadata": {},
   "source": [
    "### Load Bitstamp Btc data"
   ]
  },
  {
   "cell_type": "code",
   "execution_count": 24,
   "metadata": {},
   "outputs": [],
   "source": [
    "# Note this is sourced from: http://api.bitcoincharts.com/v1/csv/\n",
    "# See SO post for more detail: https://stackoverflow.com/questions/16143266/get-bitcoin-historical-data\n",
    "\n",
    "downloads_path = os.path.expanduser('~/Downloads')\n",
    "btc_data = pd.read_csv(os.path.join(downloads_path, \"bitstampUSD.csv\"), header=None)\n",
    "btc_data.columns = [\"TimeStamp\", \"Price\", \"Volume\"]"
   ]
  },
  {
   "cell_type": "code",
   "execution_count": 25,
   "metadata": {},
   "outputs": [],
   "source": [
    "start_date = \"2020-02-28\"\n",
    "end_date = \"2020-03-07\""
   ]
  },
  {
   "cell_type": "code",
   "execution_count": 26,
   "metadata": {},
   "outputs": [],
   "source": [
    "btc_data['TimeStamp'] = pd.to_datetime(btc_data['TimeStamp'], unit='s')\n",
    "btc_data.set_index(\"TimeStamp\", inplace=True)\n",
    "btc_data = btc_data.loc[(btc_data.index > start_date) & (btc_data.index <= end_date)]"
   ]
  },
  {
   "cell_type": "code",
   "execution_count": 27,
   "metadata": {},
   "outputs": [
    {
     "data": {
      "text/plain": [
       "True"
      ]
     },
     "execution_count": 27,
     "metadata": {},
     "output_type": "execute_result"
    }
   ],
   "source": [
    "btc_data.index.is_all_dates"
   ]
  },
  {
   "cell_type": "markdown",
   "metadata": {},
   "source": [
    "**Get Volume Bars**"
   ]
  },
  {
   "cell_type": "code",
   "execution_count": 28,
   "metadata": {},
   "outputs": [],
   "source": [
    "# %%time\n",
    "vol_amount = 50\n",
    "vol_data = pd.DataFrame()\n",
    "btc_data['volcum'] = btc_data['Volume'].cumsum()\n",
    "btc_data['volcumgrp'] =  (btc_data['volcum'] // vol_amount).astype(int)\n",
    "\n",
    "# Group by minute and get OHLC\n",
    "grp_btc_data = btc_data.reset_index().groupby(\"volcumgrp\")\n",
    "vol_data[\"volume\"] = grp_btc_data[\"Volume\"].sum()\n",
    "vol_data[\"open\"] = grp_btc_data[\"Price\"].nth(0)\n",
    "vol_data[\"high\"] = grp_btc_data[\"Price\"].max()\n",
    "vol_data[\"low\"] = grp_btc_data[\"Price\"].min()\n",
    "vol_data[\"close\"] = grp_btc_data[\"Price\"].nth(-1)\n",
    "vol_data[\"last_time\"] = grp_btc_data[\"TimeStamp\"].max()"
   ]
  },
  {
   "cell_type": "code",
   "execution_count": 30,
   "metadata": {},
   "outputs": [
    {
     "data": {
      "text/plain": [
       "(756, 6)"
      ]
     },
     "execution_count": 30,
     "metadata": {},
     "output_type": "execute_result"
    }
   ],
   "source": [
    "vol_data.shape"
   ]
  },
  {
   "cell_type": "code",
   "execution_count": 31,
   "metadata": {},
   "outputs": [
    {
     "data": {
      "text/html": [
       "<div>\n",
       "<style scoped>\n",
       "    .dataframe tbody tr th:only-of-type {\n",
       "        vertical-align: middle;\n",
       "    }\n",
       "\n",
       "    .dataframe tbody tr th {\n",
       "        vertical-align: top;\n",
       "    }\n",
       "\n",
       "    .dataframe thead th {\n",
       "        text-align: right;\n",
       "    }\n",
       "</style>\n",
       "<table border=\"1\" class=\"dataframe\">\n",
       "  <thead>\n",
       "    <tr style=\"text-align: right;\">\n",
       "      <th></th>\n",
       "      <th>volume</th>\n",
       "      <th>open</th>\n",
       "      <th>high</th>\n",
       "      <th>low</th>\n",
       "      <th>close</th>\n",
       "      <th>last_time</th>\n",
       "    </tr>\n",
       "    <tr>\n",
       "      <th>volcumgrp</th>\n",
       "      <th></th>\n",
       "      <th></th>\n",
       "      <th></th>\n",
       "      <th></th>\n",
       "      <th></th>\n",
       "      <th></th>\n",
       "    </tr>\n",
       "  </thead>\n",
       "  <tbody>\n",
       "    <tr>\n",
       "      <th>0</th>\n",
       "      <td>49.623477</td>\n",
       "      <td>8816.50</td>\n",
       "      <td>8823.63</td>\n",
       "      <td>8782.14</td>\n",
       "      <td>8796.44</td>\n",
       "      <td>2020-02-28 00:09:43</td>\n",
       "    </tr>\n",
       "    <tr>\n",
       "      <th>1</th>\n",
       "      <td>45.465628</td>\n",
       "      <td>8805.54</td>\n",
       "      <td>8820.07</td>\n",
       "      <td>8792.50</td>\n",
       "      <td>8817.99</td>\n",
       "      <td>2020-02-28 00:17:24</td>\n",
       "    </tr>\n",
       "    <tr>\n",
       "      <th>2</th>\n",
       "      <td>54.727204</td>\n",
       "      <td>8820.06</td>\n",
       "      <td>8855.85</td>\n",
       "      <td>8809.33</td>\n",
       "      <td>8855.85</td>\n",
       "      <td>2020-02-28 00:26:38</td>\n",
       "    </tr>\n",
       "    <tr>\n",
       "      <th>3</th>\n",
       "      <td>49.889667</td>\n",
       "      <td>8852.97</td>\n",
       "      <td>8890.99</td>\n",
       "      <td>8847.23</td>\n",
       "      <td>8886.24</td>\n",
       "      <td>2020-02-28 00:31:46</td>\n",
       "    </tr>\n",
       "    <tr>\n",
       "      <th>4</th>\n",
       "      <td>49.978621</td>\n",
       "      <td>8886.36</td>\n",
       "      <td>8900.94</td>\n",
       "      <td>8872.43</td>\n",
       "      <td>8872.43</td>\n",
       "      <td>2020-02-28 00:34:41</td>\n",
       "    </tr>\n",
       "  </tbody>\n",
       "</table>\n",
       "</div>"
      ],
      "text/plain": [
       "              volume     open     high      low    close           last_time\n",
       "volcumgrp                                                                   \n",
       "0          49.623477  8816.50  8823.63  8782.14  8796.44 2020-02-28 00:09:43\n",
       "1          45.465628  8805.54  8820.07  8792.50  8817.99 2020-02-28 00:17:24\n",
       "2          54.727204  8820.06  8855.85  8809.33  8855.85 2020-02-28 00:26:38\n",
       "3          49.889667  8852.97  8890.99  8847.23  8886.24 2020-02-28 00:31:46\n",
       "4          49.978621  8886.36  8900.94  8872.43  8872.43 2020-02-28 00:34:41"
      ]
     },
     "execution_count": 31,
     "metadata": {},
     "output_type": "execute_result"
    }
   ],
   "source": [
    "vol_data.head()"
   ]
  },
  {
   "cell_type": "code",
   "execution_count": 32,
   "metadata": {},
   "outputs": [
    {
     "data": {
      "text/plain": [
       "<matplotlib.axes._subplots.AxesSubplot at 0x12fe17978>"
      ]
     },
     "execution_count": 32,
     "metadata": {},
     "output_type": "execute_result"
    },
    {
     "data": {
      "image/png": "[encoded data removed]",
      "text/plain": [
       "<Figure size 432x288 with 1 Axes>"
      ]
     },
     "metadata": {},
     "output_type": "display_data"
    }
   ],
   "source": [
    "vol_data.close.plot()"
   ]
  },
  {
   "cell_type": "markdown",
   "metadata": {},
   "source": [
    "## Run Lead-Lag Transformation\n",
    "\n",
    "This is done on the volume bars"
   ]
  },
  {
   "cell_type": "code",
   "execution_count": 50,
   "metadata": {},
   "outputs": [],
   "source": [
    "# Only look at first 100 bars\n",
    "X_rp = leadlag(list(vol_data.close.iteritems()))"
   ]
  },
  {
   "cell_type": "code",
   "execution_count": 52,
   "metadata": {},
   "outputs": [
    {
     "data": {
      "image/png": "[encoded data removed]",
      "text/plain": [
       "<Figure size 432x288 with 1 Axes>"
      ]
     },
     "metadata": {},
     "output_type": "display_data"
    }
   ],
   "source": [
    "# Only Plot First 80 Obs\n",
    "plotLeadLag(X_rp[0:80])"
   ]
  },
  {
   "cell_type": "markdown",
   "metadata": {},
   "source": [
    "### Define Signature for Price Change"
   ]
  },
  {
   "cell_type": "code",
   "execution_count": 85,
   "metadata": {},
   "outputs": [],
   "source": [
    "# Note the price change is Half the length of the signature\n",
    "# This is due to the signature being 2x the legnth of the original series\n",
    "step = 10\n",
    "\n",
    "pct_chng_vec = vol_data.close.pct_change(step // 2)\n",
    "\n",
    "tst_inputs = []\n",
    "tst_outputs = []\n",
    "\n",
    "# So we get the signature for n steps\n",
    "# And then see if we can observe the if the price change was positive or negative for next n / 2 steps\n",
    "for i in range(step, len(X_rp), step):\n",
    "    j = i // 2 + step // 2\n",
    "    if j > pct_chng_vec.shape[0]:\n",
    "        break\n",
    "    sg = np.array(X_rp[i-10:i]) # don't use var name sig ... trust me\n",
    "    is_up = 1 if pct_chng_vec[j] > 0 else 0\n",
    "    tst_inputs.append(sg)\n",
    "    tst_outputs.append(is_up)"
   ]
  },
  {
   "cell_type": "code",
   "execution_count": 89,
   "metadata": {},
   "outputs": [
    {
     "name": "stderr",
     "output_type": "stream",
     "text": [
      "/Users/reubenthomaskade/anaconda3/lib/python3.7/site-packages/sklearn/linear_model/coordinate_descent.py:492: ConvergenceWarning: Objective did not converge. You might want to increase the number of iterations. Fitting data with very small alpha may cause precision problems.\n",
      "  ConvergenceWarning)\n"
     ]
    }
   ],
   "source": [
    "model = SigLearn(order=10, alpha = 0.1)\n",
    "model.train(tst_inputs[0:100], tst_outputs[0:100])"
   ]
  },
  {
   "cell_type": "code",
   "execution_count": 90,
   "metadata": {},
   "outputs": [],
   "source": [
    "predictions=model.predict(tst_inputs[-45:]) # leave a 15 bar buffer"
   ]
  },
  {
   "cell_type": "code",
   "execution_count": 91,
   "metadata": {},
   "outputs": [
    {
     "data": {
      "text/plain": [
       "0.7111111111111111"
      ]
     },
     "execution_count": 91,
     "metadata": {},
     "output_type": "execute_result"
    }
   ],
   "source": [
    "accuracy(predictions, tst_outputs[-45:])"
   ]
  },
  {
   "cell_type": "markdown",
   "metadata": {},
   "source": [
    "**With this accuracy probably have some serious look-ahead bias!**"
   ]
  },
  {
   "cell_type": "markdown",
   "metadata": {},
   "source": [
    "## Run Time-Joined Transformation"
   ]
  },
  {
   "cell_type": "code",
   "execution_count": 102,
   "metadata": {},
   "outputs": [
    {
     "data": {
      "image/png": "[encoded data removed]",
      "text/plain": [
       "<Figure size 432x288 with 1 Axes>"
      ]
     },
     "metadata": {},
     "output_type": "display_data"
    }
   ],
   "source": [
    "# Only look at first 100 bars\n",
    "X_tj = timejoined(list(vol_data.close.iteritems()))\n",
    "# Only Plot First 80 Obs\n",
    "plottimejoined(X_tj)"
   ]
  },
  {
   "cell_type": "markdown",
   "metadata": {},
   "source": [
    "### Define Signature for Price Change"
   ]
  },
  {
   "cell_type": "code",
   "execution_count": 106,
   "metadata": {},
   "outputs": [],
   "source": [
    "# Note the price change is Half the length of the signature\n",
    "# This is due to the signature being 2x the legnth of the original series\n",
    "step = 10\n",
    "\n",
    "pct_chng_vec = vol_data.close.pct_change(step // 2)\n",
    "\n",
    "tj_tst_inputs = []\n",
    "tj_tst_outputs = []\n",
    "\n",
    "# So we get the signature for n steps\n",
    "# And then see if we can observe the if the price change was positive or negative for next n / 2 steps\n",
    "for i in range(step, len(X_tj), step):\n",
    "    j = i // 2 + step // 2\n",
    "    if j > pct_chng_vec.shape[0]:\n",
    "        break\n",
    "    sg = np.array(X_tj[i-10:i]) # don't use var name sig ... trust me\n",
    "    is_up = 1 if pct_chng_vec[j] > 0 else 0\n",
    "    tj_tst_inputs.append(sg)\n",
    "    tj_tst_outputs.append(is_up)"
   ]
  },
  {
   "cell_type": "code",
   "execution_count": 107,
   "metadata": {},
   "outputs": [
    {
     "name": "stderr",
     "output_type": "stream",
     "text": [
      "/Users/reubenthomaskade/anaconda3/lib/python3.7/site-packages/sklearn/linear_model/coordinate_descent.py:492: ConvergenceWarning: Objective did not converge. You might want to increase the number of iterations. Fitting data with very small alpha may cause precision problems.\n",
      "  ConvergenceWarning)\n"
     ]
    }
   ],
   "source": [
    "model = SigLearn(order=10, alpha = 0.1)\n",
    "model.train(tj_tst_inputs[0:100], tj_tst_outputs[0:100])"
   ]
  },
  {
   "cell_type": "code",
   "execution_count": 108,
   "metadata": {},
   "outputs": [],
   "source": [
    "predictions=model.predict(tj_tst_inputs[-45:]) # leave a 15 bar buffer"
   ]
  },
  {
   "cell_type": "code",
   "execution_count": 109,
   "metadata": {},
   "outputs": [
    {
     "data": {
      "text/plain": [
       "0.5555555555555556"
      ]
     },
     "execution_count": 109,
     "metadata": {},
     "output_type": "execute_result"
    }
   ],
   "source": [
    "accuracy(predictions, tj_tst_outputs[-45:])"
   ]
  },
  {
   "cell_type": "code",
   "execution_count": null,
   "metadata": {},
   "outputs": [],
   "source": []
  }
 ],
 "metadata": {
  "kernelspec": {
   "display_name": "Python 3",
   "language": "python",
   "name": "python3"
  },
  "language_info": {
   "codemirror_mode": {
    "name": "ipython",
    "version": 3
   },
   "file_extension": ".py",
   "mimetype": "text/x-python",
   "name": "python",
   "nbconvert_exporter": "python",
   "pygments_lexer": "ipython3",
   "version": "3.7.3"
  }
 },
 "nbformat": 4,
 "nbformat_minor": 2
}
